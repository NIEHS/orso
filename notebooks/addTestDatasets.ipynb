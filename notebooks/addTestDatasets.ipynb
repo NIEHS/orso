{
 "cells": [
  {
   "cell_type": "code",
   "execution_count": 2,
   "metadata": {
    "collapsed": false
   },
   "outputs": [],
   "source": [
    "import os\n",
    "import django\n",
    "from django.forms.models import model_to_dict\n",
    "\n",
    "os.chdir('/Users/lavenderca/genomics_network/')\n",
    "curr_dir = os.getcwd()\n",
    "\n",
    "django.setup()"
   ]
  },
  {
   "cell_type": "code",
   "execution_count": 3,
   "metadata": {
    "collapsed": true
   },
   "outputs": [],
   "source": [
    "from django.contrib.auth.models import User\n",
    "\n",
    "user = User.objects.all()[0]"
   ]
  },
  {
   "cell_type": "code",
   "execution_count": 4,
   "metadata": {
    "collapsed": false
   },
   "outputs": [],
   "source": [
    "from network import models\n",
    "from analysis import correlation"
   ]
  },
  {
   "cell_type": "markdown",
   "metadata": {},
   "source": [
    "#### Clean house"
   ]
  },
  {
   "cell_type": "code",
   "execution_count": null,
   "metadata": {
    "collapsed": false
   },
   "outputs": [],
   "source": [
    "models.Dataset.objects.all().delete()\n",
    "models.MetaPlot.objects.all().delete()\n",
    "models.IntersectionValues.objects.all().delete()"
   ]
  },
  {
   "cell_type": "code",
   "execution_count": null,
   "metadata": {
    "collapsed": false
   },
   "outputs": [],
   "source": [
    "import csv\n",
    "import json\n",
    "\n",
    "with open('notebooks/2016-11-01_metaplot_metadata.csv') as metadata:\n",
    "    reader = csv.DictReader(metadata, delimiter=',')\n",
    "    for r in reader:\n",
    "        \n",
    "        url = 'http://snpinfo.niehs.nih.gov/ucscview/andy/personal_files/' + r['bigWig']\n",
    "        name = r['name']\n",
    "        data_type = r['data_type']\n",
    "        cell_type = r['cell_type']\n",
    "        antibody = r['antibody']\n",
    "        \n",
    "        promoter_bed = curr_dir + '/data/genomic_regions/mm9_RefSeq_promoters.bed'\n",
    "        enhancer_bed = curr_dir + '/data/genomic_regions/mm9_vista_enhancers.bed'\n",
    "        \n",
    "        promoter_gr = models.GenomicRegions.objects.filter(name__startswith='mm9_RefSeq_promoters')[0]\n",
    "        enhancer_gr = models.GenomicRegions.objects.filter(name__startswith='mm9_RefSeq_enhancers')[0]\n",
    "        \n",
    "        promoter_intersection = curr_dir + '/data/intersections/' + r['header'] + '.promoters.intersection.json'\n",
    "        enhancer_intersection = curr_dir + '/data/intersections/' + r['header'] + '.enhancers.intersection.json'\n",
    "        \n",
    "        promoter_metaplot = curr_dir + '/data/metaplots/' + r['header'] + '.promoters.metaplot.json'\n",
    "        enhancer_metaplot = curr_dir + '/data/metaplots/' + r['header'] + '.enhancers.metaplot.json'\n",
    "        \n",
    "        with open(promoter_metaplot) as f:\n",
    "            promoter_metaplot_obj = models.MetaPlot.objects.create(\n",
    "                    genomic_regions = promoter_gr,\n",
    "                    bigwig_url = url,\n",
    "                    relative_start = -2500,\n",
    "                    relative_end = 2499,\n",
    "                    meta_plot = json.load(f),\n",
    "                )\n",
    "        with open(enhancer_metaplot) as f:\n",
    "            enhancer_metaplot_obj = models.MetaPlot.objects.create(\n",
    "                    genomic_regions = enhancer_gr,\n",
    "                    bigwig_url = url,\n",
    "                    relative_start = -2500,\n",
    "                    relative_end = 2499,\n",
    "                    meta_plot = json.load(f),\n",
    "                )\n",
    "\n",
    "        with open(promoter_intersection) as f:\n",
    "            promoter_intersection_obj = models.IntersectionValues.objects.create(\n",
    "                    genomic_regions = promoter_gr,\n",
    "                    bigwig_url = url,\n",
    "                    relative_start = -2500,\n",
    "                    relative_end = 2499,\n",
    "                    intersection_values = json.load(f),\n",
    "                )\n",
    "        with open(enhancer_intersection) as f:\n",
    "            enhancer_intersection_obj = models.IntersectionValues.objects.create(\n",
    "                    genomic_regions = enhancer_gr,\n",
    "                    bigwig_url = url,\n",
    "                    relative_start = -2500,\n",
    "                    relative_end = 2499,\n",
    "                    intersection_values = json.load(f),\n",
    "                )\n",
    "\n",
    "        models.Dataset.objects.create(\n",
    "            data_type = data_type,\n",
    "            cell_type = cell_type,\n",
    "            antibody = antibody,\n",
    "            ambiguous_url = url,\n",
    "            name = name,\n",
    "            slug = name,\n",
    "            promoter_intersection = promoter_intersection_obj,\n",
    "            enhancer_intersection = enhancer_intersection_obj,\n",
    "            promoter_metaplot = promoter_metaplot_obj,\n",
    "            enhancer_metaplot = enhancer_metaplot_obj,\n",
    "        )"
   ]
  },
  {
   "cell_type": "code",
   "execution_count": null,
   "metadata": {
    "collapsed": false
   },
   "outputs": [],
   "source": [
    "models.CorrelationCell.objects.all().delete()"
   ]
  },
  {
   "cell_type": "code",
   "execution_count": null,
   "metadata": {
    "collapsed": false,
    "scrolled": true
   },
   "outputs": [],
   "source": [
    "all_datasets = models.Dataset.objects.all()\n",
    "\n",
    "for i, d1 in enumerate(all_datasets):\n",
    "    for d2 in all_datasets[i+1:]:\n",
    "        if d1.promoter_intersection.genomic_regions.pk == \\\n",
    "                d2.promoter_intersection.genomic_regions.pk:\n",
    "                \n",
    "            intersection_1 = d1.promoter_intersection.intersection_values\n",
    "            intersection_2 = d2.promoter_intersection.intersection_values\n",
    "            gr_pk = d1.promoter_intersection.genomic_regions.pk\n",
    "            gr = models.GenomicRegions.objects.get(pk=gr_pk)\n",
    "            \n",
    "            corr = correlation.Correlation(intersection_1, intersection_2)\n",
    "            score = abs(corr.get_correlation()[0])\n",
    "            \n",
    "            models.CorrelationCell.objects.create(\n",
    "                x_dataset = d1,\n",
    "                y_dataset = d2,\n",
    "                genomic_regions = gr,\n",
    "                score = score,\n",
    "            )\n",
    "            \n",
    "        \n",
    "        if d1.enhancer_intersection.genomic_regions.pk == \\\n",
    "                d2.enhancer_intersection.genomic_regions.pk:\n",
    "                \n",
    "            intersection_1 = d1.enhancer_intersection.intersection_values\n",
    "            intersection_2 = d2.enhancer_intersection.intersection_values\n",
    "            gr_pk = d1.enhancer_intersection.genomic_regions.pk\n",
    "            gr = models.GenomicRegions.objects.get(pk=gr_pk)\n",
    "\n",
    "            corr = correlation.Correlation(intersection_1, intersection_2)\n",
    "            score = abs(corr.get_correlation()[0])\n",
    "            \n",
    "            models.CorrelationCell.objects.create(\n",
    "                x_dataset = d1,\n",
    "                y_dataset = d2,\n",
    "                genomic_regions = gr,\n",
    "                score = score,\n",
    "            )"
   ]
  },
  {
   "cell_type": "code",
   "execution_count": null,
   "metadata": {
    "collapsed": false
   },
   "outputs": [],
   "source": [
    "models.CorrelationCell.objects.all()[0].score"
   ]
  },
  {
   "cell_type": "code",
   "execution_count": 30,
   "metadata": {
    "collapsed": false
   },
   "outputs": [
    {
     "name": "stdout",
     "output_type": "stream",
     "text": [
      "hg19_RefSeq_promoters\n",
      "0\n",
      "mm9_RefSeq_promoters\n",
      "2701\n",
      "hg19_RefSeq_enhancers\n",
      "0\n",
      "mm9_RefSeq_enhancers\n",
      "2701\n"
     ]
    },
    {
     "data": {
      "image/png": "[encoded data removed]",
      "text/plain": [
       "<matplotlib.figure.Figure at 0x111356ef0>"
      ]
     },
     "metadata": {},
     "output_type": "display_data"
    }
   ],
   "source": [
    "%matplotlib inline\n",
    "import numpy\n",
    "import matplotlib.pyplot as plt\n",
    "\n",
    "count = 1\n",
    "\n",
    "for gr in models.GenomicRegions.objects.all():\n",
    "    scores = []\n",
    "    x = None\n",
    "    \n",
    "    print(gr.name)\n",
    "    print(len(models.CorrelationCell.objects.filter(genomic_regions=gr)))\n",
    "    for corr in models.CorrelationCell.objects.filter(genomic_regions=gr):\n",
    "        scores.append(corr.score)\n",
    "        x = numpy.array(scores)\n",
    "    \n",
    "    if x is not None:\n",
    "        plt.subplot(2, 1, count)\n",
    "        plt.hist(x, 50, normed=1, facecolor='green', alpha=0.5)\n",
    "    #     plt.show()\n",
    "        count += 1"
   ]
  },
  {
   "cell_type": "code",
   "execution_count": null,
   "metadata": {
    "collapsed": false
   },
   "outputs": [],
   "source": [
    "models.Dataset.objects.all()[0].pk"
   ]
  },
  {
   "cell_type": "code",
   "execution_count": null,
   "metadata": {
    "collapsed": false
   },
   "outputs": [],
   "source": [
    "user = User.objects.all()[0]\n",
    "print(user)"
   ]
  },
  {
   "cell_type": "code",
   "execution_count": null,
   "metadata": {
    "collapsed": false
   },
   "outputs": [],
   "source": [
    "my_user = models.MyUser.objects.all()[0]\n",
    "for ds in models.Dataset.objects.all()[:5]:\n",
    "    ds.owners.add(my_user)"
   ]
  },
  {
   "cell_type": "code",
   "execution_count": null,
   "metadata": {
    "collapsed": false
   },
   "outputs": [],
   "source": [
    "models.MyUser.objects.create(\n",
    "    user = user,\n",
    "    slug = user.username,\n",
    ")"
   ]
  },
  {
   "cell_type": "code",
   "execution_count": 4,
   "metadata": {
    "collapsed": false
   },
   "outputs": [],
   "source": [
    "my_user = models.MyUser.objects.all()[0]"
   ]
  },
  {
   "cell_type": "code",
   "execution_count": null,
   "metadata": {
    "collapsed": true
   },
   "outputs": [],
   "source": [
    "for ds in models.Dataset.objects.all()[:5]:\n",
    "    my_user.favorite_data.add(ds)"
   ]
  },
  {
   "cell_type": "code",
   "execution_count": null,
   "metadata": {
    "collapsed": false
   },
   "outputs": [],
   "source": [
    "models.Dataset.objects.filter(owners__in=[my_user.user])[0]"
   ]
  },
  {
   "cell_type": "code",
   "execution_count": null,
   "metadata": {
    "collapsed": true
   },
   "outputs": [],
   "source": [
    "for ds in models.Dataset.objects.all()[:5]:\n",
    "    models.DataRecommendation.objects.create(\n",
    "        owner = my_user,\n",
    "        score = 0,\n",
    "        recommended = ds,\n",
    "        reference_dataset = models.Dataset.objects.filter(owners__in=[my_user.user])[0],\n",
    "    )"
   ]
  },
  {
   "cell_type": "code",
   "execution_count": null,
   "metadata": {
    "collapsed": false
   },
   "outputs": [],
   "source": [
    "list(my_user.favorite_data.all())"
   ]
  },
  {
   "cell_type": "code",
   "execution_count": null,
   "metadata": {
    "collapsed": false
   },
   "outputs": [],
   "source": [
    "datasets = []\n",
    "for dr in models.DataRecommendation.objects.filter(owner=my_user, hidden=False):\n",
    "    print(dr.recommended.pk)"
   ]
  },
  {
   "cell_type": "code",
   "execution_count": null,
   "metadata": {
    "collapsed": true
   },
   "outputs": [],
   "source": [
    "for ds in models.Dataset.objects.all():\n",
    "    ds.owners.clear()"
   ]
  },
  {
   "cell_type": "code",
   "execution_count": null,
   "metadata": {
    "collapsed": false
   },
   "outputs": [],
   "source": [
    "models.Dataset.objects.all()[0].get_absolute_url()"
   ]
  },
  {
   "cell_type": "code",
   "execution_count": null,
   "metadata": {
    "collapsed": false
   },
   "outputs": [],
   "source": [
    "models.Dataset.objects.get(name='testy_test_test').pk"
   ]
  },
  {
   "cell_type": "code",
   "execution_count": null,
   "metadata": {
    "collapsed": false
   },
   "outputs": [],
   "source": [
    "for ds in my_user.favorite_data.all():\n",
    "    print(ds.id)"
   ]
  },
  {
   "cell_type": "code",
   "execution_count": null,
   "metadata": {
    "collapsed": false
   },
   "outputs": [],
   "source": [
    "models.MyUser.objects.all()[0].pk"
   ]
  },
  {
   "cell_type": "code",
   "execution_count": 13,
   "metadata": {
    "collapsed": false
   },
   "outputs": [],
   "source": [
    "for ds in models.Dataset.objects.all()[:15]:\n",
    "    \n",
    "    if not models.DataRecommendation.objects.filter(owner=my_user, recommended=ds).exists():\n",
    "        models.DataFavorite.objects.create(\n",
    "            owner = my_user,\n",
    "            favorite = ds,\n",
    "        )"
   ]
  },
  {
   "cell_type": "code",
   "execution_count": 14,
   "metadata": {
    "collapsed": false
   },
   "outputs": [
    {
     "name": "stdout",
     "output_type": "stream",
     "text": [
      "540\n",
      "541\n",
      "542\n",
      "543\n",
      "544\n",
      "545\n",
      "546\n",
      "547\n",
      "548\n",
      "522\n"
     ]
    }
   ],
   "source": [
    "for fav in models.DataFavorite.objects.all():\n",
    "    print(fav.favorite.pk)"
   ]
  },
  {
   "cell_type": "code",
   "execution_count": 15,
   "metadata": {
    "collapsed": true
   },
   "outputs": [],
   "source": [
    "from django.contrib.auth.models import User"
   ]
  },
  {
   "cell_type": "code",
   "execution_count": 16,
   "metadata": {
    "collapsed": false
   },
   "outputs": [
    {
     "data": {
      "text/plain": [
       "<MyUser: MyUser object>"
      ]
     },
     "execution_count": 16,
     "metadata": {},
     "output_type": "execute_result"
    }
   ],
   "source": [
    "user=User.objects.create_user('morrissey', password='morrissey')\n",
    "user.save()\n",
    "models.MyUser.objects.create(\n",
    "    user = user,\n",
    "    slug = user.username,\n",
    ")\n",
    "\n",
    "user=User.objects.create_user('johnnymar', password='johnnymar')\n",
    "user.save()\n",
    "models.MyUser.objects.create(\n",
    "    user = user,\n",
    "    slug = user.username,\n",
    ")"
   ]
  },
  {
   "cell_type": "code",
   "execution_count": 17,
   "metadata": {
    "collapsed": false
   },
   "outputs": [
    {
     "name": "stdout",
     "output_type": "stream",
     "text": [
      "lavenderca\n",
      "morrissey\n",
      "johnnymar\n"
     ]
    }
   ],
   "source": [
    "for user in models.MyUser.objects.all():\n",
    "    print(user.user.username)"
   ]
  },
  {
   "cell_type": "code",
   "execution_count": 23,
   "metadata": {
    "collapsed": false
   },
   "outputs": [],
   "source": [
    "user_1 = models.MyUser.objects.get(slug='lavenderca')\n",
    "for slug in ['morrissey', 'johnnymar']:\n",
    "    user_2 = models.MyUser.objects.get(slug=slug)\n",
    "    models.UserRecommendation.objects.create(\n",
    "        owner = user_1,\n",
    "        score = 0,\n",
    "        recommended = user_2,\n",
    "    )"
   ]
  },
  {
   "cell_type": "code",
   "execution_count": 25,
   "metadata": {
    "collapsed": false
   },
   "outputs": [
    {
     "name": "stdout",
     "output_type": "stream",
     "text": [
      "lavenderca: johnnymar\n",
      "lavenderca: morrissey\n"
     ]
    }
   ],
   "source": [
    "for r in models.UserRecommendation.objects.all():\n",
    "    print('{}: {}'.format(r.owner.slug, r.recommended.slug))"
   ]
  },
  {
   "cell_type": "code",
   "execution_count": 31,
   "metadata": {
    "collapsed": false
   },
   "outputs": [
    {
     "data": {
      "text/plain": [
       "'http://snpinfo.niehs.nih.gov/ucscview/andy/personal_files/wgEncodeSydhTfbsCh12Mxi1af4185IggrabSig.bigWig'"
      ]
     },
     "execution_count": 31,
     "metadata": {},
     "output_type": "execute_result"
    }
   ],
   "source": [
    "models.Dataset.objects.all()[0].ambiguous_url"
   ]
  },
  {
   "cell_type": "code",
   "execution_count": 44,
   "metadata": {
    "collapsed": false
   },
   "outputs": [
    {
     "name": "stdout",
     "output_type": "stream",
     "text": [
      "GenomicRegions object\n",
      "GenomicRegions object\n"
     ]
    }
   ],
   "source": [
    "for annotation in models.GeneAnnotation.objects.all():\n",
    "    print(annotation.promoters)\n",
    "#     promoter_region = models.GenomicRegions.objects.get(assembly=annotation.assembly, name__icontains='promoters')\n",
    "#     enhancer_region = models.GenomicRegions.objects.get(assembly=annotation.assembly, name__icontains='enhancers')\n",
    "#     annotation.promoters = promoter_region\n",
    "#     annotation.enhancers = enhancer_region\n",
    "#     annotation.save()"
   ]
  },
  {
   "cell_type": "code",
   "execution_count": 45,
   "metadata": {
    "collapsed": false
   },
   "outputs": [
    {
     "name": "stdout",
     "output_type": "stream",
     "text": [
      "hg19_RefSeq_promoters\n",
      "hg19\n",
      "/Users/lavenderca/genomics_networkdata/genomic_regions/hg19_RefSeq_promoters.bed\n",
      "mm9_RefSeq_promoters\n",
      "mm9\n",
      "/Users/lavenderca/genomics_networkdata/genomic_regions/mm9_RefSeq_promoters.bed\n",
      "hg19_RefSeq_enhancers\n",
      "hg19\n",
      "/Users/lavenderca/genomics_networkdata/genomic_regions/hg19_vista_enhancers.bed\n",
      "mm9_RefSeq_enhancers\n",
      "mm9\n",
      "/Users/lavenderca/genomics_networkdata/genomic_regions/mm9_vista_enhancers.bed\n"
     ]
    }
   ],
   "source": [
    "for region in models.GenomicRegions.objects.all():\n",
    "    print(region.name)\n",
    "    print(region.assembly)\n",
    "    print(region.bed_file)"
   ]
  },
  {
   "cell_type": "code",
   "execution_count": 46,
   "metadata": {
    "collapsed": false
   },
   "outputs": [
    {
     "name": "stdout",
     "output_type": "stream",
     "text": [
      "0\n",
      "hg19_RefSeq_promoters\n",
      "1\n",
      "mm9_RefSeq_promoters\n",
      "2\n",
      "hg19_RefSeq_enhancers\n",
      "3\n",
      "mm9_RefSeq_enhancers\n"
     ]
    }
   ],
   "source": [
    "regions = models.GenomicRegions.objects.all()\n",
    "for i, r in enumerate(regions):\n",
    "    print(i)\n",
    "    print(r.name)"
   ]
  },
  {
   "cell_type": "code",
   "execution_count": 47,
   "metadata": {
    "collapsed": true
   },
   "outputs": [],
   "source": [
    "regions[0].bed_file = '/Users/lavenderca/genomics_network/data/genomic_regions/hg19_RefSeq_promoters.bed'\n",
    "regions[0].save()\n",
    "\n",
    "regions[1].bed_file = '/Users/lavenderca/genomics_network/data/genomic_regions/mm9_RefSeq_promoters.bed'\n",
    "regions[1].save()\n",
    "\n",
    "regions[2].bed_file = '/Users/lavenderca/genomics_network/data/genomic_regions/hg19_vista_enhancers.bed'\n",
    "regions[2].save()\n",
    "\n",
    "regions[3].bed_file = '/Users/lavenderca/genomics_network/data/genomic_regions/mm9_vista_enhancers.bed'\n",
    "regions[3].save()"
   ]
  },
  {
   "cell_type": "code",
   "execution_count": 62,
   "metadata": {
    "collapsed": false
   },
   "outputs": [
    {
     "name": "stdout",
     "output_type": "stream",
     "text": [
      "<class 'dict'>\n",
      "<class 'dict'>\n"
     ]
    }
   ],
   "source": [
    "import json\n",
    "print(type(json.loads(models.Dataset.objects.get(name='blah').promoter_metaplot.meta_plot)))\n",
    "print(type(models.Dataset.objects.get(name='wgEncodeSydhTfbsCh12Mxi1af4185IggrabSig').promoter_metaplot.meta_plot))"
   ]
  },
  {
   "cell_type": "code",
   "execution_count": 63,
   "metadata": {
    "collapsed": false
   },
   "outputs": [
    {
     "data": {
      "text/plain": [
       "(2,\n",
       " {'network.CorrelationCell': 0,\n",
       "  'network.DataFavorite': 0,\n",
       "  'network.DataRecommendation': 0,\n",
       "  'network.Dataset': 1,\n",
       "  'network.Dataset_owners': 1,\n",
       "  'network.MyUser_favorite_data': 0})"
      ]
     },
     "execution_count": 63,
     "metadata": {},
     "output_type": "execute_result"
    }
   ],
   "source": [
    "models.Dataset.objects.get(name='blah').delete()"
   ]
  },
  {
   "cell_type": "code",
   "execution_count": 10,
   "metadata": {
    "collapsed": false
   },
   "outputs": [],
   "source": [
    "added = 0\n",
    "_user = User.objects.get(username='morrissey')\n",
    "user = models.MyUser.objects.get(user=_user)\n",
    "\n",
    "for ds in models.Dataset.objects.filter(owners=None):\n",
    "    ds.owners.add(user)\n",
    "    added += 1\n",
    "    if added >= 5:\n",
    "        break"
   ]
  },
  {
   "cell_type": "code",
   "execution_count": 19,
   "metadata": {
    "collapsed": true
   },
   "outputs": [],
   "source": [
    "me = models.MyUser.objects.get(user=User.objects.get(username='lavenderca'))\n",
    "\n",
    "john = models.MyUser.objects.get(user=User.objects.get(username='johnnymar'))\n",
    "sean = models.MyUser.objects.get(user=User.objects.get(username='morrissey'))\n",
    "\n",
    "for ds in models.Dataset.objects.filter(owners__in=[john]):\n",
    "    models.DataFavorite.objects.create(\n",
    "        owner=me,\n",
    "        favorite=ds,\n",
    "    )\n",
    "\n",
    "for ds in models.Dataset.objects.filter(owners__in=[sean])[:2]:\n",
    "    models.DataFavorite.objects.create(\n",
    "        owner=me,\n",
    "        favorite=ds,\n",
    "    )"
   ]
  },
  {
   "cell_type": "code",
   "execution_count": 20,
   "metadata": {
    "collapsed": false
   },
   "outputs": [
    {
     "name": "stdout",
     "output_type": "stream",
     "text": [
      "johnnymar\n",
      "johnnymar\n",
      "johnnymar\n",
      "johnnymar\n",
      "johnnymar\n",
      "morrissey\n",
      "morrissey\n"
     ]
    }
   ],
   "source": [
    "for fav in models.DataFavorite.objects.filter(owner=me):\n",
    "    for user in fav.favorite.owners.all():\n",
    "        print(user.user.username)"
   ]
  },
  {
   "cell_type": "code",
   "execution_count": 18,
   "metadata": {
    "collapsed": false
   },
   "outputs": [
    {
     "data": {
      "text/plain": [
       "(18, {'network.DataFavorite': 18})"
      ]
     },
     "execution_count": 18,
     "metadata": {},
     "output_type": "execute_result"
    }
   ],
   "source": [
    "models.DataFavorite.objects.all().delete()"
   ]
  },
  {
   "cell_type": "code",
   "execution_count": 21,
   "metadata": {
    "collapsed": false
   },
   "outputs": [
    {
     "data": {
      "text/plain": [
       "(2, {'network.UserRecommendation': 2})"
      ]
     },
     "execution_count": 21,
     "metadata": {},
     "output_type": "execute_result"
    }
   ],
   "source": [
    "models.UserRecommendation.objects.all().delete()"
   ]
  },
  {
   "cell_type": "code",
   "execution_count": null,
   "metadata": {
    "collapsed": true
   },
   "outputs": [],
   "source": []
  }
 ],
 "metadata": {
  "kernelspec": {
   "display_name": "Django Shell-Plus",
   "language": "python",
   "name": "django_extensions"
  },
  "language_info": {
   "codemirror_mode": {
    "name": "ipython",
    "version": 3
   },
   "file_extension": ".py",
   "mimetype": "text/x-python",
   "name": "python",
   "nbconvert_exporter": "python",
   "pygments_lexer": "ipython3",
   "version": "3.5.2"
  }
 },
 "nbformat": 4,
 "nbformat_minor": 0
}
