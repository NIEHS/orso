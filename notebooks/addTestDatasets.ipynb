{
 "cells": [
  {
   "cell_type": "code",
   "execution_count": 1,
   "metadata": {
    "collapsed": false
   },
   "outputs": [],
   "source": [
    "import os\n",
    "import django\n",
    "from django.forms.models import model_to_dict\n",
    "\n",
    "os.chdir('/Users/lavenderca/genomics_network/')\n",
    "curr_dir = os.getcwd()\n",
    "\n",
    "django.setup()"
   ]
  },
  {
   "cell_type": "code",
   "execution_count": 2,
   "metadata": {
    "collapsed": true
   },
   "outputs": [],
   "source": [
    "from django.contrib.auth.models import User\n",
    "\n",
    "user = User.objects.all()[0]"
   ]
  },
  {
   "cell_type": "code",
   "execution_count": 3,
   "metadata": {
    "collapsed": true
   },
   "outputs": [],
   "source": [
    "from network import models\n",
    "from analysis import correlation"
   ]
  },
  {
   "cell_type": "markdown",
   "metadata": {},
   "source": [
    "#### Clean house"
   ]
  },
  {
   "cell_type": "code",
   "execution_count": null,
   "metadata": {
    "collapsed": false
   },
   "outputs": [],
   "source": [
    "models.Dataset.objects.all().delete()\n",
    "models.MetaPlot.objects.all().delete()\n",
    "models.IntersectionValues.objects.all().delete()"
   ]
  },
  {
   "cell_type": "code",
   "execution_count": null,
   "metadata": {
    "collapsed": false
   },
   "outputs": [],
   "source": [
    "import csv\n",
    "\n",
    "with open('notebooks/2016-11-01_metaplot_metadata.csv') as metadata:\n",
    "    reader = csv.DictReader(metadata, delimiter=',')\n",
    "    for r in reader:\n",
    "        \n",
    "        url = 'http://snpinfo.niehs.nih.gov/ucscview/andy/personal_files/' + r['bigWig']\n",
    "        name = r['name']\n",
    "        data_type = r['data_type']\n",
    "        cell_type = r['cell_type']\n",
    "        antibody = r['antibody']\n",
    "        \n",
    "        promoter_bed = curr_dir + '/data/genomic_regions/mm9_RefSeq_promoters.bed'\n",
    "        enhancer_bed = curr_dir + '/data/genomic_regions/mm9_vista_enhancers.bed'\n",
    "        \n",
    "        promoter_gr = models.GenomicRegions.objects.filter(name__startswith='mm9_RefSeq_promoters')[0]\n",
    "        enhancer_gr = models.GenomicRegions.objects.filter(name__startswith='mm9_RefSeq_enhancers')[0]\n",
    "        \n",
    "        promoter_intersection = curr_dir + '/data/intersections/' + r['header'] + '.promoters.intersection.json'\n",
    "        enhancer_intersection = curr_dir + '/data/intersections/' + r['header'] + '.enhancers.intersection.json'\n",
    "        \n",
    "        promoter_metaplot = curr_dir + '/data/metaplots/' + r['header'] + '.promoters.metaplot.json'\n",
    "        enhancer_metaplot = curr_dir + '/data/metaplots/' + r['header'] + '.enhancers.metaplot.json'\n",
    "        \n",
    "        promoter_metaplot_obj = models.MetaPlot.objects.create(\n",
    "                genomic_regions = promoter_gr,\n",
    "                bigwig_url = url,\n",
    "                relative_start = -2500,\n",
    "                relative_end = 2499,\n",
    "                meta_plot = promoter_metaplot,\n",
    "            )\n",
    "        enhancer_metaplot_obj = models.MetaPlot.objects.create(\n",
    "                genomic_regions = enhancer_gr,\n",
    "                bigwig_url = url,\n",
    "                relative_start = -2500,\n",
    "                relative_end = 2499,\n",
    "                meta_plot = enhancer_metaplot,\n",
    "            )\n",
    "\n",
    "        promoter_intersection_obj = models.IntersectionValues.objects.create(\n",
    "                genomic_regions = promoter_gr,\n",
    "                bigwig_url = url,\n",
    "                relative_start = -2500,\n",
    "                relative_end = 2499,\n",
    "                intersection_values = promoter_intersection,\n",
    "            )\n",
    "        enhancer_intersection_obj = models.IntersectionValues.objects.create(\n",
    "                genomic_regions = enhancer_gr,\n",
    "                bigwig_url = url,\n",
    "                relative_start = -2500,\n",
    "                relative_end = 2499,\n",
    "                intersection_values = enhancer_intersection,\n",
    "            )\n",
    "\n",
    "        models.Dataset.objects.create(\n",
    "            data_type = data_type,\n",
    "            cell_type = cell_type,\n",
    "            antibody = antibody,\n",
    "            ambiguous_url = url,\n",
    "            name = name,\n",
    "            slug = name,\n",
    "            promoter_intersection = promoter_intersection_obj,\n",
    "            enhancer_intersection = enhancer_intersection_obj,\n",
    "            promoter_metaplot = promoter_metaplot_obj,\n",
    "            enhancer_metaplot = enhancer_metaplot_obj,\n",
    "        )"
   ]
  },
  {
   "cell_type": "code",
   "execution_count": null,
   "metadata": {
    "collapsed": false
   },
   "outputs": [],
   "source": [
    "models.CorrelationCell.objects.all().delete()"
   ]
  },
  {
   "cell_type": "code",
   "execution_count": null,
   "metadata": {
    "collapsed": false,
    "scrolled": true
   },
   "outputs": [],
   "source": [
    "all_datasets = models.Dataset.objects.all()\n",
    "\n",
    "for i, d1 in enumerate(all_datasets):\n",
    "    for d2 in all_datasets[i+1:]:\n",
    "        if d1.promoter_intersection.genomic_regions.pk == \\\n",
    "                d2.promoter_intersection.genomic_regions.pk:\n",
    "                \n",
    "            intersection_1 = d1.promoter_intersection.intersection_values\n",
    "            intersection_2 = d2.promoter_intersection.intersection_values\n",
    "            gr_pk = d1.promoter_intersection.genomic_regions.pk\n",
    "            gr = models.GenomicRegions.objects.get(pk=gr_pk)\n",
    "\n",
    "            corr = correlation.Correlation(intersection_1, intersection_2)\n",
    "            score = abs(corr.get_correlation()[0])\n",
    "            \n",
    "            models.CorrelationCell.objects.create(\n",
    "                x_dataset = d1,\n",
    "                y_dataset = d2,\n",
    "                genomic_regions = gr,\n",
    "                score = score,\n",
    "            )\n",
    "            \n",
    "        \n",
    "        if d1.enhancer_intersection.genomic_regions.pk == \\\n",
    "                d2.enhancer_intersection.genomic_regions.pk:\n",
    "                \n",
    "            intersection_1 = d1.enhancer_intersection.intersection_values\n",
    "            intersection_2 = d2.enhancer_intersection.intersection_values\n",
    "            gr_pk = d1.enhancer_intersection.genomic_regions.pk\n",
    "            gr = models.GenomicRegions.objects.get(pk=gr_pk)\n",
    "\n",
    "            corr = correlation.Correlation(intersection_1, intersection_2)\n",
    "            score = abs(corr.get_correlation()[0])\n",
    "            \n",
    "            models.CorrelationCell.objects.create(\n",
    "                x_dataset = d1,\n",
    "                y_dataset = d2,\n",
    "                genomic_regions = gr,\n",
    "                score = score,\n",
    "            )"
   ]
  },
  {
   "cell_type": "code",
   "execution_count": null,
   "metadata": {
    "collapsed": false
   },
   "outputs": [],
   "source": [
    "models.CorrelationCell.objects.all()[0].score"
   ]
  },
  {
   "cell_type": "code",
   "execution_count": 10,
   "metadata": {
    "collapsed": false
   },
   "outputs": [
    {
     "name": "stdout",
     "output_type": "stream",
     "text": [
      "hg19_RefSeq_promoters\n",
      "0\n",
      "mm9_RefSeq_promoters\n",
      "2701\n",
      "hg19_RefSeq_enhancers\n",
      "0\n",
      "mm9_RefSeq_enhancers\n",
      "2701\n"
     ]
    },
    {
     "data": {
      "image/png": "[encoded data removed]",
      "text/plain": [
       "<matplotlib.figure.Figure at 0x111527da0>"
      ]
     },
     "metadata": {},
     "output_type": "display_data"
    }
   ],
   "source": [
    "%matplotlib inline\n",
    "import numpy\n",
    "import matplotlib.pyplot as plt\n",
    "\n",
    "count = 1\n",
    "\n",
    "for gr in models.GenomicRegions.objects.all():\n",
    "    scores = []\n",
    "    x = None\n",
    "    \n",
    "    print(gr.name)\n",
    "    print(len(models.CorrelationCell.objects.filter(genomic_regions=gr)))\n",
    "    for corr in models.CorrelationCell.objects.filter(genomic_regions=gr):\n",
    "        scores.append(corr.score)\n",
    "        x = numpy.array(scores)\n",
    "    \n",
    "    if x is not None:\n",
    "        plt.subplot(2, 1, count)\n",
    "        plt.hist(x, 50, normed=1, facecolor='green', alpha=0.5)\n",
    "    #     plt.show()\n",
    "        count += 1"
   ]
  },
  {
   "cell_type": "code",
   "execution_count": null,
   "metadata": {
    "collapsed": true
   },
   "outputs": [],
   "source": []
  }
 ],
 "metadata": {
  "kernelspec": {
   "display_name": "Django Shell-Plus",
   "language": "python",
   "name": "django_extensions"
  },
  "language_info": {
   "codemirror_mode": {
    "name": "ipython",
    "version": 3
   },
   "file_extension": ".py",
   "mimetype": "text/x-python",
   "name": "python",
   "nbconvert_exporter": "python",
   "pygments_lexer": "ipython3",
   "version": "3.4.4"
  }
 },
 "nbformat": 4,
 "nbformat_minor": 0
}
