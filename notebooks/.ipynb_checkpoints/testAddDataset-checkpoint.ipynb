{
 "cells": [
  {
   "cell_type": "code",
   "execution_count": 2,
   "metadata": {
    "collapsed": true
   },
   "outputs": [],
   "source": [
    "import os\n",
    "import django\n",
    "import pyBigWig\n",
    "from django.forms.models import model_to_dict\n",
    "from numpy import mean, nan_to_num\n",
    "\n",
    "os.chdir('/Users/lavenderca/genomics_network/')\n",
    "curr_dir = os.getcwd()\n",
    "\n",
    "django.setup()"
   ]
  },
  {
   "cell_type": "code",
   "execution_count": 3,
   "metadata": {
    "collapsed": false
   },
   "outputs": [],
   "source": [
    "test_bw_fn = \\\n",
    "    'http://snpinfo.niehs.nih.gov/ucscview/andy/personal_files/' + \\\n",
    "    'wgEncodeSydhTfbsCh12Ets1IggrabSig.bigWig'\n",
    "test_bed_fn = curr_dir + '/data/genomic_regions/mm9_RefSeq_promoters.bed'"
   ]
  },
  {
   "cell_type": "code",
   "execution_count": 4,
   "metadata": {
    "collapsed": false
   },
   "outputs": [],
   "source": [
    "from network import models"
   ]
  },
  {
   "cell_type": "code",
   "execution_count": null,
   "metadata": {
    "collapsed": false
   },
   "outputs": [],
   "source": [
    "models.Dataset.create_intersection_json(test_bed_fn, -2500, 2499, single_bw=test_bw_fn)"
   ]
  },
  {
   "cell_type": "code",
   "execution_count": 7,
   "metadata": {
    "collapsed": false
   },
   "outputs": [
    {
     "data": {
      "text/plain": [
       "16343.0"
      ]
     },
     "execution_count": 7,
     "metadata": {},
     "output_type": "execute_result"
    }
   ],
   "source": [
    "bw = pyBigWig.open(test_bw_fn)\n",
    "locus = ('chr1', 31257676, 31262675)\n",
    "sum(nan_to_num(bw.values(*locus)))"
   ]
  },
  {
   "cell_type": "code",
   "execution_count": 10,
   "metadata": {
    "collapsed": false
   },
   "outputs": [],
   "source": [
    "def create_intersection_json(bed_fn, window_start, window_end,\n",
    "                                 single_bw=None, paired_1_bw=None,\n",
    "                                 paired_2_bw=None):\n",
    "\n",
    "        def get_sum(bw, chromosome, start, end):\n",
    "            return sum(numpy.nan_to_num(bw.values(chromosome, start, end)))\n",
    "\n",
    "        #check_bigwigs(single_bw, paired_1_bw, paired_2_bw)\n",
    "\n",
    "        intersection_values = []\n",
    "\n",
    "        if single_bw:\n",
    "            bw = pyBigWig.open(single_bw)\n",
    "        else:\n",
    "            bw_1 = pyBigWig.open(paired_1_bw)\n",
    "            bw_2 = pyBigWig.open(paired_2_bw)\n",
    "\n",
    "        with open(bed_fn) as bed:\n",
    "            for line in bed:\n",
    "#                 if not is_bed_header(line):\n",
    "\n",
    "                    line_split = line.strip().split('\\t')\n",
    "                    chromosome, start, end = line_split[:3]\n",
    "                    if len(line_split) > 3:\n",
    "                        strand = line_split[3]\n",
    "                    else:\n",
    "                        strand = '.'\n",
    "                    center = int((int(end)-int(start))/2 + int(start))\n",
    "\n",
    "                    if strand == '+' or strand == '.':\n",
    "                        intersection_start = center + window_start\n",
    "                        intersection_end = center + window_end\n",
    "                    else:\n",
    "                        intersection_start = center - window_end\n",
    "                        intersection_end = center - window_start\n",
    "                    locus = (chromosome, intersection_start, intersection_end)\n",
    "                    print(locus)\n",
    "                    if single_bw and locus != ('chr1', 31257676, 31262675):\n",
    "                        intersection_values.append(get_sum(bw, *locus))\n",
    "\n",
    "                    else:\n",
    "                        if strand == '+':\n",
    "                            intersection_values.append(get_sum(bw_1, *locus))\n",
    "                        if strand == '-':\n",
    "                            intersection_values.append(get_sum(bw_2, *locus))\n",
    "                        if strand == '.':\n",
    "                            bw_1_value = get_sum(bw_1, *locus)\n",
    "                            bw_2_value = get_sum(bw_2, *locus)\n",
    "                            intersection_values.append(\n",
    "                                (bw_1_value + bw_2_value)/2\n",
    "                            )\n",
    "\n",
    "        return json.dumps(intersection_values)"
   ]
  },
  {
   "cell_type": "code",
   "execution_count": 11,
   "metadata": {
    "collapsed": false
   },
   "outputs": [
    {
     "ename": "NameError",
     "evalue": "name 'is_bed_header' is not defined",
     "output_type": "error",
     "traceback": [
      "\u001b[0;31m---------------------------------------------------------------------------\u001b[0m",
      "\u001b[0;31mNameError\u001b[0m                                 Traceback (most recent call last)",
      "\u001b[0;32m<ipython-input-11-e4db38c9e207>\u001b[0m in \u001b[0;36m<module>\u001b[0;34m()\u001b[0m\n\u001b[0;32m----> 1\u001b[0;31m \u001b[0mcreate_intersection_json\u001b[0m\u001b[0;34m(\u001b[0m\u001b[0mtest_bed_fn\u001b[0m\u001b[0;34m,\u001b[0m \u001b[0;34m-\u001b[0m\u001b[0;36m2500\u001b[0m\u001b[0;34m,\u001b[0m \u001b[0;36m2499\u001b[0m\u001b[0;34m,\u001b[0m \u001b[0msingle_bw\u001b[0m\u001b[0;34m=\u001b[0m\u001b[0mtest_bw_fn\u001b[0m\u001b[0;34m)\u001b[0m\u001b[0;34m\u001b[0m\u001b[0m\n\u001b[0m",
      "\u001b[0;32m<ipython-input-10-119235cfdf6b>\u001b[0m in \u001b[0;36mcreate_intersection_json\u001b[0;34m(bed_fn, window_start, window_end, single_bw, paired_1_bw, paired_2_bw)\u001b[0m\n\u001b[1;32m     18\u001b[0m         \u001b[0;32mwith\u001b[0m \u001b[0mopen\u001b[0m\u001b[0;34m(\u001b[0m\u001b[0mbed_fn\u001b[0m\u001b[0;34m)\u001b[0m \u001b[0;32mas\u001b[0m \u001b[0mbed\u001b[0m\u001b[0;34m:\u001b[0m\u001b[0;34m\u001b[0m\u001b[0m\n\u001b[1;32m     19\u001b[0m             \u001b[0;32mfor\u001b[0m \u001b[0mline\u001b[0m \u001b[0;32min\u001b[0m \u001b[0mbed\u001b[0m\u001b[0;34m:\u001b[0m\u001b[0;34m\u001b[0m\u001b[0m\n\u001b[0;32m---> 20\u001b[0;31m                 \u001b[0;32mif\u001b[0m \u001b[0;32mnot\u001b[0m \u001b[0mis_bed_header\u001b[0m\u001b[0;34m(\u001b[0m\u001b[0mline\u001b[0m\u001b[0;34m)\u001b[0m\u001b[0;34m:\u001b[0m\u001b[0;34m\u001b[0m\u001b[0m\n\u001b[0m\u001b[1;32m     21\u001b[0m \u001b[0;34m\u001b[0m\u001b[0m\n\u001b[1;32m     22\u001b[0m                     \u001b[0mline_split\u001b[0m \u001b[0;34m=\u001b[0m \u001b[0mline\u001b[0m\u001b[0;34m.\u001b[0m\u001b[0mstrip\u001b[0m\u001b[0;34m(\u001b[0m\u001b[0;34m)\u001b[0m\u001b[0;34m.\u001b[0m\u001b[0msplit\u001b[0m\u001b[0;34m(\u001b[0m\u001b[0;34m'\\t'\u001b[0m\u001b[0;34m)\u001b[0m\u001b[0;34m\u001b[0m\u001b[0m\n",
      "\u001b[0;31mNameError\u001b[0m: name 'is_bed_header' is not defined"
     ]
    }
   ],
   "source": [
    "create_intersection_json(test_bed_fn, -2500, 2499, single_bw=test_bw_fn)"
   ]
  },
  {
   "cell_type": "code",
   "execution_count": null,
   "metadata": {
    "collapsed": true
   },
   "outputs": [],
   "source": []
  }
 ],
 "metadata": {
  "kernelspec": {
   "display_name": "Django Shell-Plus",
   "language": "python",
   "name": "django_extensions"
  },
  "language_info": {
   "codemirror_mode": {
    "name": "ipython",
    "version": 3
   },
   "file_extension": ".py",
   "mimetype": "text/x-python",
   "name": "python",
   "nbconvert_exporter": "python",
   "pygments_lexer": "ipython3",
   "version": "3.4.4"
  }
 },
 "nbformat": 4,
 "nbformat_minor": 0
}
