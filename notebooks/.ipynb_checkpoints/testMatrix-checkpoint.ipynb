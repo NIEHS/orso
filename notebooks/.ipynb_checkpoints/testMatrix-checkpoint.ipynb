{
 "cells": [
  {
   "cell_type": "code",
   "execution_count": 1,
   "metadata": {
    "collapsed": false
   },
   "outputs": [],
   "source": [
    "import os\n",
    "import timeit\n",
    "import cProfile\n",
    "os.chdir('/Users/lavenderca/genomics_network/')"
   ]
  },
  {
   "cell_type": "code",
   "execution_count": 2,
   "metadata": {
    "collapsed": true
   },
   "outputs": [],
   "source": [
    "from analysis import metaplot"
   ]
  },
  {
   "cell_type": "code",
   "execution_count": 3,
   "metadata": {
    "collapsed": false
   },
   "outputs": [],
   "source": [
    "test_bw_fn = \\\n",
    "    'http://snpinfo.niehs.nih.gov/ucscview/andy/personal_files/' + \\\n",
    "    'wgEncodeSydhTfbsCh12Ets1IggrabSig.bigWig'\n",
    "test_bed_fn = 'data/genomic_regions/mm9_RefSeq_promoters.chr19.bed'"
   ]
  },
  {
   "cell_type": "code",
   "execution_count": 4,
   "metadata": {
    "collapsed": false
   },
   "outputs": [],
   "source": [
    "test_meta = metaplot.MetaPlot(test_bed_fn, -2500, 50, 100, single_bw=test_bw_fn)"
   ]
  },
  {
   "cell_type": "code",
   "execution_count": 5,
   "metadata": {
    "collapsed": false
   },
   "outputs": [
    {
     "name": "stdout",
     "output_type": "stream",
     "text": [
      "{\"bin_values\": [[-5000, -4901], [-4900, -4801], [-4800, -4701], [-4700, -4601], [-4600, -4501], [-4500, -4401], [-4400, -4301], [-4300, -4201], [-4200, -4101], [-4100, -4001], [-4000, -3901], [-3900, -3801], [-3800, -3701], [-3700, -3601], [-3600, -3501], [-3500, -3401], [-3400, -3301], [-3300, -3201], [-3200, -3101], [-3100, -3001], [-3000, -2901], [-2900, -2801], [-2800, -2701], [-2700, -2601], [-2600, -2501], [-2500, -2401], [-2400, -2301], [-2300, -2201], [-2200, -2101], [-2100, -2001], [-2000, -1901], [-1900, -1801], [-1800, -1701], [-1700, -1601], [-1600, -1501], [-1500, -1401], [-1400, -1301], [-1300, -1201], [-1200, -1101], [-1100, -1001], [-1000, -901], [-900, -801], [-800, -701], [-700, -601], [-600, -501], [-500, -401], [-400, -301], [-300, -201], [-200, -101], [-100, -1]], \"metaplot_values\": [2.945, 2.175, 1.7111764705882353, 2.0, 1.75, 1.555, 2.715, 2.27, 1.1918181818181819, 1.57, 1.666212121212121, 1.605, 1.515257731958763, 0.5, 1.1, 2.51, 3.375, 3.205, 2.175, 1.4100000000000001, 1.735, 1.5, 1.275, 1.381578947368421, 1.99, 2.82, 1.945, 2.7644949494949493, 3.565, 1.744767260231178, 0.5, 3.465, 6.288737373737374, 6.949999999999999, 4.832474747474747, 2.335, 0.97, 1.215, 0.805, 0.55, 2.19, 4.66538961038961, 8.14, 9.215, 6.845, 5.42, 4.665, 8.094999999999999, 15.345, 21.830000000000002]}\n"
     ]
    }
   ],
   "source": [
    "print(test_meta.create_metaplot_json())"
   ]
  },
  {
   "cell_type": "code",
   "execution_count": null,
   "metadata": {
    "collapsed": true
   },
   "outputs": [],
   "source": []
  }
 ],
 "metadata": {
  "kernelspec": {
   "display_name": "Django Shell-Plus",
   "language": "python",
   "name": "django_extensions"
  },
  "language_info": {
   "codemirror_mode": {
    "name": "ipython",
    "version": 3
   },
   "file_extension": ".py",
   "mimetype": "text/x-python",
   "name": "python",
   "nbconvert_exporter": "python",
   "pygments_lexer": "ipython3",
   "version": "3.4.4"
  }
 },
 "nbformat": 4,
 "nbformat_minor": 0
}
