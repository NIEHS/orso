{
 "cells": [
  {
   "cell_type": "code",
   "execution_count": 1,
   "metadata": {
    "collapsed": false
   },
   "outputs": [],
   "source": [
    "import os\n",
    "import django\n",
    "from django.forms.models import model_to_dict\n",
    "\n",
    "os.chdir('/Users/lavenderca/genomics_network/')\n",
    "django.setup()"
   ]
  },
  {
   "cell_type": "code",
   "execution_count": 2,
   "metadata": {
    "collapsed": false
   },
   "outputs": [],
   "source": [
    "from network import models"
   ]
  },
  {
   "cell_type": "markdown",
   "metadata": {},
   "source": [
    "#### Clean house"
   ]
  },
  {
   "cell_type": "code",
   "execution_count": 3,
   "metadata": {
    "collapsed": false
   },
   "outputs": [
    {
     "data": {
      "text/plain": [
       "(0, {'network.Transcript': 0})"
      ]
     },
     "execution_count": 3,
     "metadata": {},
     "output_type": "execute_result"
    }
   ],
   "source": [
    "models.GenomeAssembly.objects.all().delete()\n",
    "models.GeneAnnotation.objects.all().delete()\n",
    "models.GenomicRegions.objects.all().delete()\n",
    "models.Gene.objects.all().delete()\n",
    "models.Transcript.objects.all().delete()"
   ]
  },
  {
   "cell_type": "markdown",
   "metadata": {},
   "source": [
    "#### Add assemblies"
   ]
  },
  {
   "cell_type": "code",
   "execution_count": 4,
   "metadata": {
    "collapsed": false
   },
   "outputs": [],
   "source": [
    "for assembly in ['hg19', 'mm9']:\n",
    "    models.GenomeAssembly.objects.create(\n",
    "        name = assembly,\n",
    "        default_annotation_id = None\n",
    "    )"
   ]
  },
  {
   "cell_type": "markdown",
   "metadata": {},
   "source": [
    "#### Add annotations"
   ]
  },
  {
   "cell_type": "code",
   "execution_count": 3,
   "metadata": {
    "collapsed": true
   },
   "outputs": [],
   "source": [
    "curr_dir = os.getcwd()\n",
    "\n",
    "assembly_to_annotation = {\n",
    "    'hg19': curr_dir + '/data/annotations/hg19_RefSeq_Genes_2016-10-25.gtf',\n",
    "    'mm9': curr_dir + '/data/annotations/mm9_RefSeq_Genes_2016-10-25.gtf',\n",
    "}\n",
    "\n",
    "assembly_to_table = {\n",
    "    'hg19': curr_dir + '/data/annotation_tables/hg19_RefSeq_Genes_2016-10-25',\n",
    "    'mm9': curr_dir + '/data/annotation_tables/mm9_RefSeq_Genes_2016-10-25',\n",
    "}"
   ]
  },
  {
   "cell_type": "code",
   "execution_count": 6,
   "metadata": {
    "collapsed": false
   },
   "outputs": [],
   "source": [
    "for assembly, annotation in assembly_to_annotation.items():\n",
    "    assembly_obj = models.GenomeAssembly.objects.filter(name__startswith=assembly)[0]\n",
    "    annotation_obj = models.GeneAnnotation.objects.create(\n",
    "        name = assembly + '_RefSeq',\n",
    "        gtf_file = annotation,\n",
    "        assembly = assembly_obj,\n",
    "    )\n",
    "    assembly_obj.default_annotation = annotation_obj"
   ]
  },
  {
   "cell_type": "markdown",
   "metadata": {
    "collapsed": true
   },
   "source": [
    "#### Read in GTF transcripts"
   ]
  },
  {
   "cell_type": "code",
   "execution_count": 4,
   "metadata": {
    "collapsed": true
   },
   "outputs": [],
   "source": [
    "ACCEPTED_CHROMOSOMES = []\n",
    "\n",
    "# Works for mouse and human\n",
    "# No 'random', 'haplo', 'Un', 'Y'\n",
    "for i in range(1, 22):\n",
    "    ACCEPTED_CHROMOSOMES.append('chr' + str(i))\n",
    "ACCEPTED_CHROMOSOMES.append('chrX')"
   ]
  },
  {
   "cell_type": "code",
   "execution_count": 5,
   "metadata": {
    "collapsed": false
   },
   "outputs": [],
   "source": [
    "def getTranscriptsFromGTF(gtf_fn):\n",
    "    transcripts = dict()\n",
    "    chromosome_set = set()\n",
    "    \n",
    "    with open(gtf_fn) as f:\n",
    "        for line in f:\n",
    "            line_split = line.strip().split('\\t')\n",
    "            \n",
    "            chromosome = line_split[0]\n",
    "            entry_type = line_split[2]\n",
    "            (start, end) = int(line_split[3]), int(line_split[4])\n",
    "            strand = line_split[6]\n",
    "            \n",
    "            detail = line_split[8]\n",
    "            \n",
    "            if chromosome in ACCEPTED_CHROMOSOMES:\n",
    "                transcript_id = detail.split('transcript_id')[1].split(';')[0].split('\"')[1]\n",
    "\n",
    "                if transcript_id not in transcripts:\n",
    "                    transcripts[(transcript_id, chromosome)] = {\n",
    "                        'chromosome': chromosome,\n",
    "                        'strand': strand,\n",
    "                        'exons': [],\n",
    "                    }\n",
    "\n",
    "                transcripts[(transcript_id, chromosome)]['exons'].append((start, end))\n",
    "    \n",
    "    for transcript in transcripts.values():\n",
    "        transcript['exons'].sort(key=lambda x: x[0])\n",
    "        transcript['start'] = transcript['exons'][0][0]\n",
    "        transcript['end'] = transcript['exons'][-1][1]\n",
    "    \n",
    "    return transcripts"
   ]
  },
  {
   "cell_type": "code",
   "execution_count": 6,
   "metadata": {
    "collapsed": true
   },
   "outputs": [],
   "source": [
    "assembly_to_transcripts = dict()\n",
    "for assembly, annotation_file in assembly_to_annotation.items():\n",
    "    assembly_to_transcripts[assembly] = getTranscriptsFromGTF(annotation_file)"
   ]
  },
  {
   "cell_type": "markdown",
   "metadata": {},
   "source": [
    "#### Create TSS/promoter BED files"
   ]
  },
  {
   "cell_type": "code",
   "execution_count": 7,
   "metadata": {
    "collapsed": false
   },
   "outputs": [],
   "source": [
    "from collections import defaultdict\n",
    "\n",
    "def createTSSBEDFromTranscripts(transcripts, output_file):\n",
    "    \n",
    "    tss_dict = defaultdict(set)\n",
    "    for tr_id, transcript in transcripts.items():\n",
    "        chromosome = transcript['chromosome']\n",
    "        strand = transcript['strand']\n",
    "        if strand == '+':\n",
    "            start = transcript['start']\n",
    "        if strand == '-':\n",
    "            start = transcript['end']\n",
    "        name = tr_id[0]\n",
    "        \n",
    "        tss_dict[(chromosome, strand, start)].add(name)\n",
    "    \n",
    "    entry_num = 0\n",
    "    with open(output_file, 'w') as OUTPUT:\n",
    "        for tr_id, names in sorted(\n",
    "                tss_dict.items(),\n",
    "                key=lambda x: (\n",
    "                    ACCEPTED_CHROMOSOMES.index(x[0][0]), \n",
    "                    x[0][2]\n",
    "                )\n",
    "            ):\n",
    "            \n",
    "            tr_names = ','.join(sorted(list(names), key=lambda x: int(x.split('_')[1])))\n",
    "            chromosome = tr_id[0]\n",
    "            entry_name = '{}|{}|{}'.format(str(entry_num), tr_names, chromosome)\n",
    "            \n",
    "            start = tr_id[2]\n",
    "            strand = tr_id[1]\n",
    "            \n",
    "            OUTPUT.write('{}\\t{}\\t{}\\t{}\\t{}\\n'.format(\n",
    "                chromosome,\n",
    "                str(start - 1),\n",
    "                str(start),\n",
    "                entry_name,\n",
    "                '0',\n",
    "                strand,\n",
    "            ))\n",
    "            \n",
    "            entry_num += 1"
   ]
  },
  {
   "cell_type": "code",
   "execution_count": 11,
   "metadata": {
    "collapsed": false
   },
   "outputs": [],
   "source": [
    "createTSSBEDFromTranscripts(assembly_to_transcripts['mm9'], 'temp')"
   ]
  },
  {
   "cell_type": "code",
   "execution_count": 8,
   "metadata": {
    "collapsed": false
   },
   "outputs": [],
   "source": [
    "for assembly, transcripts in assembly_to_transcripts.items():\n",
    "    bed_file = 'data/genomic_regions/' + assembly + '_RefSeq_promoters.bed'\n",
    "    createTSSBEDFromTranscripts(transcripts, bed_file)"
   ]
  },
  {
   "cell_type": "markdown",
   "metadata": {},
   "source": [
    "#### Add to database and associate regions to annotations"
   ]
  },
  {
   "cell_type": "code",
   "execution_count": 13,
   "metadata": {
    "collapsed": false
   },
   "outputs": [],
   "source": [
    "for annotation, region_file in [\n",
    "    ('hg19_RefSeq', curr_dir + '/data/genomic_regions/hg19_RefSeq_promoters.bed',),\n",
    "    ('mm9_RefSeq', curr_dir + '/data/genomic_regions/mm9_RefSeq_promoters.bed',),\n",
    "]:\n",
    "\n",
    "    assembly_obj = \\\n",
    "        models.GenomeAssembly.objects.filter(name__startswith=annotation.split('_')[0])[0]\n",
    "    annotation_obj = models.GeneAnnotation.objects.filter(name__startswith=annotation)[0]\n",
    "    \n",
    "    region_obj = models.GenomicRegions.objects.create(\n",
    "        name = annotation + '_promoters',\n",
    "        assembly = assembly_obj,\n",
    "        bed_file = region_file,\n",
    "    )\n",
    "    \n",
    "    annotation_obj.promoters = region_obj"
   ]
  },
  {
   "cell_type": "code",
   "execution_count": 14,
   "metadata": {
    "collapsed": true
   },
   "outputs": [],
   "source": [
    "for annotation, region_file in [\n",
    "    ('hg19_RefSeq', curr_dir + '/data/genomic_regions/hg19_vista_enhancers.bed',),\n",
    "    ('mm9_RefSeq', curr_dir + '/data/genomic_regions/mm9_vista_enhancers.bed',),\n",
    "]:\n",
    "\n",
    "    assembly_obj = \\\n",
    "        models.GenomeAssembly.objects.filter(name__startswith=annotation.split('_')[0])[0]\n",
    "    annotation_obj = models.GeneAnnotation.objects.filter(name__startswith=annotation)[0]\n",
    "    \n",
    "    region_obj = models.GenomicRegions.objects.create(\n",
    "        name = annotation + '_enhancers',\n",
    "        assembly = assembly_obj,\n",
    "        bed_file = region_file,\n",
    "    )\n",
    "    \n",
    "    annotation_obj.promoters = region_obj"
   ]
  },
  {
   "cell_type": "markdown",
   "metadata": {},
   "source": [
    "#### Add gene and transcripts members"
   ]
  },
  {
   "cell_type": "code",
   "execution_count": 15,
   "metadata": {
    "collapsed": true
   },
   "outputs": [],
   "source": [
    "import csv\n",
    "\n",
    "def getGeneTranscriptAssociations(annotation_table):\n",
    "    gene_set = set()\n",
    "    transcript_to_gene = dict()\n",
    "    \n",
    "    with open(annotation_table) as f:\n",
    "        reader = csv.DictReader(f, delimiter='\\t')\n",
    "        for line in reader:\n",
    "            gene_name = line['name2']\n",
    "            transcript_name = line['name']\n",
    "        \n",
    "            gene_set.add(gene_name)\n",
    "            transcript_to_gene[transcript_name] = gene_name \n",
    "    \n",
    "    return gene_set, transcript_to_gene"
   ]
  },
  {
   "cell_type": "code",
   "execution_count": 16,
   "metadata": {
    "collapsed": false
   },
   "outputs": [],
   "source": [
    "gene_set, transcript_to_gene = \\\n",
    "    getGeneTranscriptAssociations('data/annotation_tables/hg19_RefSeq_Genes_2016-10-25')"
   ]
  },
  {
   "cell_type": "code",
   "execution_count": 17,
   "metadata": {
    "collapsed": false
   },
   "outputs": [],
   "source": [
    "for assembly, annotation_table in assembly_to_table.items():\n",
    "    gene_set, transcript_to_gene = getGeneTranscriptAssociations(annotation_table)\n",
    "    transcripts = assembly_to_transcripts[assembly]\n",
    "    \n",
    "    annotation = assembly + '_RefSeq'\n",
    "    annotation_obj = models.GeneAnnotation.objects.filter(name__startswith=annotation)[0]\n",
    "    \n",
    "    for gene in gene_set:\n",
    "        models.Gene.objects.create(\n",
    "            name = gene,\n",
    "            annotation = annotation_obj,\n",
    "        )\n",
    "\n",
    "    for tr_id, transcript in transcripts.items():\n",
    "        tr_name = tr_id[0].split('_dup')[0]\n",
    "        associated_gene_name = transcript_to_gene[tr_name]\n",
    "        associated_gene = \\\n",
    "            models.Gene.objects.filter(name__startswith=associated_gene_name)[0]\n",
    "        \n",
    "        tr_obj = models.Transcript.objects.create(\n",
    "            name = tr_name,\n",
    "            gene = associated_gene,\n",
    "            start = transcript['start'],\n",
    "            end = transcript['end'],\n",
    "            chromosome = transcript['chromosome'],\n",
    "            strand = transcript['strand'],\n",
    "            exons = transcript['exons'],\n",
    "        )"
   ]
  },
  {
   "cell_type": "code",
   "execution_count": null,
   "metadata": {
    "collapsed": true
   },
   "outputs": [],
   "source": []
  }
 ],
 "metadata": {
  "kernelspec": {
   "display_name": "Django Shell-Plus",
   "language": "python",
   "name": "django_extensions"
  },
  "language_info": {
   "codemirror_mode": {
    "name": "ipython",
    "version": 3
   },
   "file_extension": ".py",
   "mimetype": "text/x-python",
   "name": "python",
   "nbconvert_exporter": "python",
   "pygments_lexer": "ipython3",
   "version": "3.5.2"
  }
 },
 "nbformat": 4,
 "nbformat_minor": 0
}
