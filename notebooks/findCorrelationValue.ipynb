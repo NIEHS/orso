{
 "cells": [
  {
   "cell_type": "code",
   "execution_count": 9,
   "metadata": {
    "collapsed": false
   },
   "outputs": [],
   "source": [
    "import numpy\n",
    "from scipy import stats"
   ]
  },
  {
   "cell_type": "code",
   "execution_count": 10,
   "metadata": {
    "collapsed": false
   },
   "outputs": [],
   "source": [
    "import random\n",
    "\n",
    "bed_totals_1 = {'entry_values': []}\n",
    "bed_totals_2 = {'entry_values': []}\n",
    "\n",
    "entry_names = []\n",
    "\n",
    "for i in range(1000):\n",
    "    entry_names.append('entry_' + str(i))\n",
    "\n",
    "bed_totals_1['entry_names'] = entry_names\n",
    "bed_totals_2['entry_names'] = entry_names\n",
    "\n",
    "for i in range(1000):\n",
    "    bed_totals_1['entry_values'].append(random.randrange(1, 1001, 1))\n",
    "    bed_totals_2['entry_values'].append(random.randrange(1, 1001, 1))"
   ]
  },
  {
   "cell_type": "code",
   "execution_count": 14,
   "metadata": {
    "collapsed": false
   },
   "outputs": [],
   "source": [
    "p = stats.spearmanr(bed_totals_1['entry_values'], bed_totals_2['entry_values'])[1]"
   ]
  },
  {
   "cell_type": "code",
   "execution_count": 15,
   "metadata": {
    "collapsed": false
   },
   "outputs": [
    {
     "name": "stdout",
     "output_type": "stream",
     "text": [
      "0.400343094878\n"
     ]
    }
   ],
   "source": [
    "print(p)"
   ]
  },
  {
   "cell_type": "code",
   "execution_count": null,
   "metadata": {
    "collapsed": true
   },
   "outputs": [],
   "source": []
  }
 ],
 "metadata": {
  "kernelspec": {
   "display_name": "Django Shell-Plus",
   "language": "python",
   "name": "django_extensions"
  },
  "language_info": {
   "codemirror_mode": {
    "name": "ipython",
    "version": 3
   },
   "file_extension": ".py",
   "mimetype": "text/x-python",
   "name": "python",
   "nbconvert_exporter": "python",
   "pygments_lexer": "ipython3",
   "version": "3.4.3"
  }
 },
 "nbformat": 4,
 "nbformat_minor": 0
}
