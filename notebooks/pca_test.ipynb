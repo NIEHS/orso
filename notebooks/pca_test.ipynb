{
 "cells": [
  {
   "cell_type": "markdown",
   "metadata": {
    "hideCode": false,
    "hidePrompt": false
   },
   "source": [
    "#### Grab information from database:"
   ]
  },
  {
   "cell_type": "code",
   "execution_count": 1,
   "metadata": {
    "collapsed": true,
    "hideCode": false,
    "hidePrompt": false
   },
   "outputs": [],
   "source": [
    "%matplotlib inline\n",
    "import os\n",
    "import django\n",
    "os.chdir('/Users/lavenderca/genomics_network/')\n",
    "django.setup()"
   ]
  },
  {
   "cell_type": "code",
   "execution_count": 55,
   "metadata": {
    "hideCode": false,
    "hidePrompt": false
   },
   "outputs": [],
   "source": [
    "import matplotlib.pyplot as plt\n",
    "import math\n",
    "import numpy\n",
    "from scipy.spatial.distance import mahalanobis\n",
    "from sklearn.decomposition import PCA, TruncatedSVD\n",
    "from sklearn.ensemble import RandomForestClassifier\n",
    "from sklearn.manifold import TSNE\n",
    "\n",
    "from network import models"
   ]
  },
  {
   "cell_type": "code",
   "execution_count": 3,
   "metadata": {
    "hideCode": false,
    "hidePrompt": false
   },
   "outputs": [],
   "source": [
    "annotation = models.GeneAnnotation.objects.get(name='GRCh38_RefSeq')\n",
    "datasets = models.Dataset.objects.filter(assembly__default_annotation=annotation)\n",
    "\n",
    "genes = []\n",
    "transcripts = []\n",
    "for g in models.Gene.objects.filter(annotation=annotation):\n",
    "    transcript = g.get_transcript_with_highest_expression()\n",
    "    if transcript:\n",
    "        genes.append(g)\n",
    "        transcripts.append(transcript)\n",
    "        \n",
    "dataset_values = dict()\n",
    "for dataset in datasets:\n",
    "    dataset_values[dataset] = dict()\n",
    "    for transcript in transcripts:\n",
    "        intersection = models.TranscriptIntersection.objects.get(\n",
    "            dataset=dataset,\n",
    "            transcript=transcript,\n",
    "        )\n",
    "        dataset_values[dataset][transcript] = {\n",
    "            'coding': intersection.normalized_coding_value,\n",
    "            'genebody': intersection.normalized_genebody_value,\n",
    "            'promoter': intersection.normalized_promoter_value,\n",
    "        }"
   ]
  },
  {
   "cell_type": "code",
   "execution_count": 4,
   "metadata": {
    "collapsed": true,
    "hideCode": false,
    "hidePrompt": false
   },
   "outputs": [],
   "source": [
    "dataset_info = dict()\n",
    "for dataset in datasets:\n",
    "    experiment = models.Experiment.objects.get(dataset=dataset)\n",
    "    dataset_info[dataset] = {\n",
    "        'cell_type': experiment.cell_type,\n",
    "        'target': experiment.target,\n",
    "        'experiment_type': experiment.data_type,\n",
    "    }"
   ]
  },
  {
   "cell_type": "code",
   "execution_count": 5,
   "metadata": {
    "collapsed": true,
    "hideCode": false,
    "hidePrompt": false
   },
   "outputs": [],
   "source": [
    "transcript_info = dict()\n",
    "for transcript in transcripts:\n",
    "    transcript_info[transcript] = {\n",
    "        'coding_length': sum((e[1] - e[0] + 1) for e in transcript.exons),\n",
    "        'median_expression': transcript.get_median_expression(),\n",
    "        'variance': transcript.get_intersection_variance(),\n",
    "    }"
   ]
  },
  {
   "cell_type": "markdown",
   "metadata": {
    "hideCode": false,
    "hidePrompt": false
   },
   "source": [
    "#### Shared info for plots:"
   ]
  },
  {
   "cell_type": "code",
   "execution_count": 6,
   "metadata": {
    "hideCode": false,
    "hidePrompt": false
   },
   "outputs": [],
   "source": [
    "colors = [\n",
    "    '#e6194b',\n",
    "    '#3cb44b',\n",
    "    '#ffe119',\n",
    "    '#0082c8',\n",
    "    '#f58231',\n",
    "    '#911eb4',\n",
    "    '#46f0f0',\n",
    "    '#f032e6',\n",
    "    '#d2f53c',\n",
    "    '#fabebe',\n",
    "    '#008080',\n",
    "    '#e6beff',\n",
    "    '#aa6e28',\n",
    "    '#fffac8',\n",
    "    '#800000',\n",
    "    '#aaffc3',\n",
    "    '#808000',\n",
    "    '#ffd8b1',\n",
    "    '#000080',\n",
    "    '#808080',\n",
    "]"
   ]
  },
  {
   "cell_type": "markdown",
   "metadata": {
    "hideCode": false,
    "hidePrompt": false
   },
   "source": [
    "#### Perform PCA on ChIP-seq data\n",
    "\n",
    "Use values from all transcripts."
   ]
  },
  {
   "cell_type": "code",
   "execution_count": 61,
   "metadata": {
    "hideCode": false,
    "hidePrompt": false
   },
   "outputs": [
    {
     "data": {
      "image/png": "[encoded data removed]",
      "text/plain": [
       "<matplotlib.figure.Figure at 0x104a5ba90>"
      ]
     },
     "metadata": {},
     "output_type": "display_data"
    },
    {
     "data": {
      "image/png": "[encoded data removed]",
      "text/plain": [
       "<matplotlib.figure.Figure at 0x10e118358>"
      ]
     },
     "metadata": {},
     "output_type": "display_data"
    },
    {
     "data": {
      "image/png": "[encoded data removed]",
      "text/plain": [
       "<matplotlib.figure.Figure at 0x1806e1668>"
      ]
     },
     "metadata": {},
     "output_type": "display_data"
    },
    {
     "name": "stdout",
     "output_type": "stream",
     "text": [
      "Outlier information:\n",
      "36674\n",
      "{'description': 'assembly:\\nGRCh38\\n\\nbiological_replicates:\\n1\\n2\\n\\noutput_category:\\nsignal\\n\\noutput_type:\\nfold change over control\\n\\ntechnical_replicates:\\n1_1\\n2_1', 'name': 'ENCFF943TXM-ChIPseq-H3K27me3-InducedPluripotentStemCell-GRCh38', 'id': 36674, 'plus_url': None, 'ambiguous_url': 'https://www.encodeproject.org/files/ENCFF943TXM/@@download/ENCFF943TXM.bigWig', '_state': <django.db.models.base.ModelState object at 0x1134d1ef0>, 'experiment_id': 17407, 'created': datetime.datetime(2017, 5, 15, 17, 21, 28, 680804, tzinfo=<UTC>), 'slug': 'ENCFF943TXM', 'assembly_id': 2, 'minus_url': None}\n",
      "{'name': 'ENCSR386RIJ-ChIPseq-H3K27me3-InducedPluripotentStemCell-Human', 'slug': '', 'created': datetime.datetime(2017, 5, 15, 17, 21, 28, 677960, tzinfo=<UTC>), 'id': 17407, '_state': <django.db.models.base.ModelState object at 0x18085f240>, 'data_type': 'ChIP-seq', 'description': 'Assay Slims:Dna binding\\n\\nAssay Synonyms:Chromatin immunoprecipitation sequencing assay; chip-seq assay\\n\\nAssay Term Name:Chip-seq\\n\\nAssay Title:Chip-seq\\n\\nBiosample Summary:Induced pluripotent stem cell male adult (53 years) derived from fibroblast of arm\\n\\nBiosample Synonyms:Ipsc; ips cell\\n\\nBiosample Term Name:Induced pluripotent stem cell\\n\\nBiosample Type:Induced pluripotent stem cell line\\n\\nCategory Slims:Protein and dna interaction\\n\\nObjective Slims:Protein and dna interaction identification objective; epigenetic modification identification objective\\n\\nOrgan Slims:\\n\\nTarget:H3k27me3-human\\n\\nSystem Slims:', 'project_id': 15, 'target': 'H3K27me3', 'cell_type': 'induced pluripotent stem cell'}\n"
     ]
    }
   ],
   "source": [
    "intersection_values = []\n",
    "cell_types = []\n",
    "targets = []\n",
    "selected_datasets = []\n",
    "for dataset in datasets:\n",
    "    if dataset_info[dataset]['experiment_type'] == 'ChIP-seq':\n",
    "        intersection_values.append([])\n",
    "        for transcript in transcripts:\n",
    "            intersection_values[-1].append(dataset_values[dataset][transcript]['genebody'])\n",
    "        cell_types.append(dataset_info[dataset]['cell_type'])\n",
    "        targets.append(dataset_info[dataset]['target'])\n",
    "        selected_datasets.append(dataset)\n",
    "            \n",
    "n_components = 20\n",
    "pca = PCA(n_components=n_components)\n",
    "pca_out = pca.fit_transform(numpy.array(intersection_values))\n",
    "\n",
    "cell_type_to_color = dict()\n",
    "target_to_color = dict()\n",
    "index = 0\n",
    "for x in cell_types:\n",
    "    if x not in cell_type_to_color:\n",
    "        cell_type_to_color[x] = colors[index % len(colors)]\n",
    "        index += 1\n",
    "index = 0\n",
    "for x in targets:\n",
    "    if x not in target_to_color:\n",
    "        target_to_color[x] = colors[index % len(colors)]\n",
    "        index += 1\n",
    "\n",
    "fig, (ax1, ax2) = plt.subplots(nrows=1, ncols=2)\n",
    "ax1.scatter(\n",
    "    [x[0] for x in pca_out], \n",
    "    [x[1] for x in pca_out],\n",
    "    color=[cell_type_to_color[x] for x in cell_types],\n",
    ")\n",
    "ax1.set_title('PCA: colored by cell type')\n",
    "ax2.scatter(\n",
    "    [x[0] for x in pca_out], \n",
    "    [x[1] for x in pca_out],\n",
    "    color=[target_to_color[x] for x in targets],\n",
    ")\n",
    "ax2.set_title('PCA: colored by target')\n",
    "plt.show()\n",
    "\n",
    "fig, ax1 = plt.subplots()\n",
    "ax1.plot(range(n_components), pca.explained_variance_ratio_)\n",
    "ax1.set_title('PCA: explained variance ratio')\n",
    "plt.show()\n",
    "\n",
    "tsne = TSNE()\n",
    "tsne_out = tsne.fit_transform([x[:6] for x in pca_out])\n",
    "\n",
    "fig, (ax1, ax2) = plt.subplots(nrows=1, ncols=2)\n",
    "ax1.scatter(\n",
    "    [x[0] for x in tsne_out], \n",
    "    [x[1] for x in tsne_out],\n",
    "    color=[cell_type_to_color[x] for x in cell_types],\n",
    ")\n",
    "ax1.set_title('TSNE: colored by cell type')\n",
    "ax2.scatter(\n",
    "    [x[0] for x in tsne_out], \n",
    "    [x[1] for x in tsne_out],\n",
    "    color=[target_to_color[x] for x in targets],\n",
    ")\n",
    "ax2.set_title('TSNE: colored by target')\n",
    "plt.show()\n",
    "\n",
    "outlier_index = next(i for i, x in enumerate(pca_out) if x[0] > 10000)\n",
    "print('Outlier information:')\n",
    "print(selected_datasets[outlier_index].pk)\n",
    "print(selected_datasets[outlier_index].__dict__)\n",
    "print(models.Experiment.objects.get(dataset=selected_datasets[outlier_index]).__dict__)"
   ]
  },
  {
   "cell_type": "markdown",
   "metadata": {},
   "source": [
    "#### PCA on ChIP-seq data\n",
    "* Filter by transcript length, variance, median expression"
   ]
  },
  {
   "cell_type": "code",
   "execution_count": 51,
   "metadata": {},
   "outputs": [
    {
     "data": {
      "image/png": "[encoded data removed]",
      "text/plain": [
       "<matplotlib.figure.Figure at 0x1809d8860>"
      ]
     },
     "metadata": {},
     "output_type": "display_data"
    },
    {
     "data": {
      "image/png": "[encoded data removed]",
      "text/plain": [
       "<matplotlib.figure.Figure at 0x104a7ea90>"
      ]
     },
     "metadata": {},
     "output_type": "display_data"
    },
    {
     "data": {
      "image/png": "[encoded data removed]",
      "text/plain": [
       "<matplotlib.figure.Figure at 0x18448d1d0>"
      ]
     },
     "metadata": {},
     "output_type": "display_data"
    },
    {
     "name": "stdout",
     "output_type": "stream",
     "text": [
      "Outlier information:\n",
      "{'description': 'assembly:\\nGRCh38\\n\\nbiological_replicates:\\n1\\n2\\n\\noutput_category:\\nsignal\\n\\noutput_type:\\nfold change over control\\n\\ntechnical_replicates:\\n1_1\\n2_1', 'name': 'ENCFF943TXM-ChIPseq-H3K27me3-InducedPluripotentStemCell-GRCh38', 'id': 36674, 'plus_url': None, 'ambiguous_url': 'https://www.encodeproject.org/files/ENCFF943TXM/@@download/ENCFF943TXM.bigWig', '_state': <django.db.models.base.ModelState object at 0x1134d1ef0>, 'experiment_id': 17407, 'created': datetime.datetime(2017, 5, 15, 17, 21, 28, 680804, tzinfo=<UTC>), 'slug': 'ENCFF943TXM', 'assembly_id': 2, 'minus_url': None}\n",
      "{'name': 'ENCSR386RIJ-ChIPseq-H3K27me3-InducedPluripotentStemCell-Human', 'slug': '', 'created': datetime.datetime(2017, 5, 15, 17, 21, 28, 677960, tzinfo=<UTC>), 'id': 17407, '_state': <django.db.models.base.ModelState object at 0x1787a3080>, 'data_type': 'ChIP-seq', 'description': 'Assay Slims:Dna binding\\n\\nAssay Synonyms:Chromatin immunoprecipitation sequencing assay; chip-seq assay\\n\\nAssay Term Name:Chip-seq\\n\\nAssay Title:Chip-seq\\n\\nBiosample Summary:Induced pluripotent stem cell male adult (53 years) derived from fibroblast of arm\\n\\nBiosample Synonyms:Ipsc; ips cell\\n\\nBiosample Term Name:Induced pluripotent stem cell\\n\\nBiosample Type:Induced pluripotent stem cell line\\n\\nCategory Slims:Protein and dna interaction\\n\\nObjective Slims:Protein and dna interaction identification objective; epigenetic modification identification objective\\n\\nOrgan Slims:\\n\\nTarget:H3k27me3-human\\n\\nSystem Slims:', 'project_id': 15, 'target': 'H3K27me3', 'cell_type': 'induced pluripotent stem cell'}\n"
     ]
    }
   ],
   "source": [
    "filtered_transcripts = []\n",
    "\n",
    "variance_cutoffs = [\n",
    "    numpy.percentile([transcript_info[x]['variance'] for x in transcripts], 50),\n",
    "    numpy.percentile([transcript_info[x]['variance'] for x in transcripts], 95),\n",
    "]\n",
    "\n",
    "expression_cutoffs = [\n",
    "    numpy.percentile([transcript_info[x]['median_expression'] for x in transcripts], 25),\n",
    "    numpy.percentile([transcript_info[x]['median_expression'] for x in transcripts], 75),\n",
    "]\n",
    "\n",
    "for transcript in transcripts:\n",
    "    info = transcript_info[transcript]\n",
    "    if all([\n",
    "        info['coding_length'] >= 500,\n",
    "        info['variance'] >= variance_cutoffs[0],\n",
    "        info['variance'] <= variance_cutoffs[1],\n",
    "        info['median_expression'] >= expression_cutoffs[0],\n",
    "        info['median_expression'] <= expression_cutoffs[1],\n",
    "    ]):\n",
    "        filtered_transcripts.append(transcript)\n",
    "        \n",
    "intersection_values = []\n",
    "cell_types = []\n",
    "targets = []\n",
    "selected_datasets = []\n",
    "for dataset in datasets:\n",
    "    if dataset_info[dataset]['experiment_type'] == 'ChIP-seq':\n",
    "        intersection_values.append([])\n",
    "        for transcript in filtered_transcripts:\n",
    "            intersection_values[-1].append(dataset_values[dataset][transcript]['genebody'])\n",
    "        cell_types.append(dataset_info[dataset]['cell_type'])\n",
    "        targets.append(dataset_info[dataset]['target'])\n",
    "        selected_datasets.append(dataset)\n",
    "            \n",
    "n_components = 20\n",
    "pca = PCA(n_components=n_components)\n",
    "pca_out = pca.fit_transform(numpy.array(intersection_values))\n",
    "\n",
    "fig, (ax1, ax2) = plt.subplots(nrows=1, ncols=2)\n",
    "\n",
    "cell_type_to_color = dict()\n",
    "target_to_color = dict()\n",
    "index = 0\n",
    "for x in cell_types:\n",
    "    if x not in cell_type_to_color:\n",
    "        cell_type_to_color[x] = colors[index % len(colors)]\n",
    "        index += 1\n",
    "index = 0\n",
    "for x in targets:\n",
    "    if x not in target_to_color:\n",
    "        target_to_color[x] = colors[index % len(colors)]\n",
    "        index += 1\n",
    "\n",
    "ax1.scatter(\n",
    "    [x[0] for x in pca_out], \n",
    "    [x[1] for x in pca_out],\n",
    "    color=[cell_type_to_color[x] for x in cell_types],\n",
    ")\n",
    "ax1.set_title('Colored by cell type')\n",
    "ax2.scatter(\n",
    "    [x[0] for x in pca_out], \n",
    "    [x[1] for x in pca_out],\n",
    "    color=[target_to_color[x] for x in targets],\n",
    ")\n",
    "ax2.set_title('Colored by target')\n",
    "plt.show()\n",
    "\n",
    "fig, ax1 = plt.subplots()\n",
    "ax1.plot(range(n_components), pca.explained_variance_ratio_)\n",
    "ax1.set_title('PCA: explained variance ratio')\n",
    "plt.show()\n",
    "\n",
    "tsne = TSNE()\n",
    "tsne_out = tsne.fit_transform([x[:6] for x in pca_out])\n",
    "\n",
    "fig, (ax1, ax2) = plt.subplots(nrows=1, ncols=2)\n",
    "ax1.scatter(\n",
    "    [x[0] for x in tsne_out], \n",
    "    [x[1] for x in tsne_out],\n",
    "    color=[cell_type_to_color[x] for x in cell_types],\n",
    ")\n",
    "ax1.set_title('TSNE: colored by cell type')\n",
    "ax2.scatter(\n",
    "    [x[0] for x in tsne_out], \n",
    "    [x[1] for x in tsne_out],\n",
    "    color=[target_to_color[x] for x in targets],\n",
    ")\n",
    "ax2.set_title('TSNE: colored by target')\n",
    "plt.show()\n",
    "\n",
    "outlier_index = next(i for i, x in enumerate(pca_out) if x[0] > 2000)\n",
    "print('Outlier information:')\n",
    "print(selected_datasets[outlier_index].__dict__)\n",
    "print(models.Experiment.objects.get(dataset=selected_datasets[outlier_index]).__dict__)"
   ]
  },
  {
   "cell_type": "markdown",
   "metadata": {},
   "source": [
    "#### Add transcript importance ranks based on random forest"
   ]
  },
  {
   "cell_type": "code",
   "execution_count": 45,
   "metadata": {
    "collapsed": true
   },
   "outputs": [],
   "source": [
    "intersection_values = []\n",
    "cell_types = []\n",
    "targets = []\n",
    "for dataset in datasets:\n",
    "    if dataset_info[dataset]['experiment_type'] == 'ChIP-seq':\n",
    "        intersection_values.append([])\n",
    "        for transcript in transcripts:\n",
    "            intersection_values[-1].append(dataset_values[dataset][transcript]['genebody'])\n",
    "        cell_types.append(dataset_info[dataset]['cell_type'])\n",
    "        targets.append(dataset_info[dataset]['target'])\n",
    "        \n",
    "rf = RandomForestClassifier(n_estimators=600)\n",
    "\n",
    "cell_type_importances = rf.fit(\n",
    "    intersection_values, \n",
    "    cell_types,\n",
    ").feature_importances_\n",
    "\n",
    "target_importances = rf.fit(\n",
    "    intersection_values,\n",
    "    targets,\n",
    ").feature_importances_\n",
    "\n",
    "cell_type_ranks = \\\n",
    "    [i[0] for i in sorted(enumerate(cell_type_importances), key=lambda x: -x[1])]\n",
    "target_ranks = \\\n",
    "    [i[0] for i in sorted(enumerate(target_importances), key=lambda x: -x[1])]\n",
    "    \n",
    "for transcript, ct_rank, t_rank, in zip(\n",
    "        transcripts, cell_type_ranks, target_ranks):\n",
    "    transcript_info[transcript].update({\n",
    "            'cell_type_rank': ct_rank,\n",
    "            'target_rank': t_rank,\n",
    "        })"
   ]
  },
  {
   "cell_type": "markdown",
   "metadata": {},
   "source": [
    "#### Select transcripts by random forest importance"
   ]
  },
  {
   "cell_type": "code",
   "execution_count": 77,
   "metadata": {},
   "outputs": [
    {
     "data": {
      "image/png": "[encoded data removed]",
      "text/plain": [
       "<matplotlib.figure.Figure at 0x11924a5c0>"
      ]
     },
     "metadata": {},
     "output_type": "display_data"
    },
    {
     "data": {
      "image/png": "[encoded data removed]",
      "text/plain": [
       "<matplotlib.figure.Figure at 0x180a20048>"
      ]
     },
     "metadata": {},
     "output_type": "display_data"
    },
    {
     "data": {
      "image/png": "[encoded data removed]",
      "text/plain": [
       "<matplotlib.figure.Figure at 0x180841be0>"
      ]
     },
     "metadata": {},
     "output_type": "display_data"
    }
   ],
   "source": [
    "def rank(transcript):\n",
    "    info = transcript_info[transcript]\n",
    "    return info['cell_type_rank'] + info['target_rank']\n",
    "\n",
    "filtered_transcripts = sorted(transcripts, key=lambda x: rank(x))[:100]\n",
    "        \n",
    "intersection_values = []\n",
    "cell_types = []\n",
    "targets = []\n",
    "selected_datasets = []\n",
    "for dataset in datasets:\n",
    "    if dataset_info[dataset]['experiment_type'] == 'ChIP-seq':\n",
    "        intersection_values.append([])\n",
    "        for transcript in filtered_transcripts:\n",
    "            intersection_values[-1].append(dataset_values[dataset][transcript]['genebody'])\n",
    "        cell_types.append(dataset_info[dataset]['cell_type'])\n",
    "        targets.append(dataset_info[dataset]['target'])\n",
    "        selected_datasets.append(dataset)\n",
    "            \n",
    "n_components = 20\n",
    "pca = PCA(n_components=n_components)\n",
    "pca_out = pca.fit_transform(numpy.array(intersection_values))\n",
    "\n",
    "fig, (ax1, ax2) = plt.subplots(nrows=1, ncols=2)\n",
    "\n",
    "cell_type_to_color = dict()\n",
    "target_to_color = dict()\n",
    "index = 0\n",
    "for x in cell_types:\n",
    "    if x not in cell_type_to_color:\n",
    "        cell_type_to_color[x] = colors[index % len(colors)]\n",
    "        index += 1\n",
    "index = 0\n",
    "for x in targets:\n",
    "    if x not in target_to_color:\n",
    "        target_to_color[x] = colors[index % len(colors)]\n",
    "        index += 1\n",
    "\n",
    "ax1.scatter(\n",
    "    [x[0] for x in pca_out], \n",
    "    [x[1] for x in pca_out],\n",
    "    color=[cell_type_to_color[x] for x in cell_types],\n",
    ")\n",
    "ax1.set_title('Colored by cell type')\n",
    "ax2.scatter(\n",
    "    [x[0] for x in pca_out], \n",
    "    [x[1] for x in pca_out],\n",
    "    color=[target_to_color[x] for x in targets],\n",
    ")\n",
    "ax2.set_title('Colored by target')\n",
    "plt.show()\n",
    "\n",
    "fig, ax1 = plt.subplots()\n",
    "ax1.plot(range(n_components), pca.explained_variance_ratio_)\n",
    "ax1.set_title('PCA: explained variance ratio')\n",
    "plt.show()\n",
    "\n",
    "tsne = TSNE()\n",
    "tsne_out = tsne.fit_transform([x[:6] for x in pca_out])\n",
    "\n",
    "fig, (ax1, ax2) = plt.subplots(nrows=1, ncols=2)\n",
    "ax1.scatter(\n",
    "    [x[0] for x in tsne_out], \n",
    "    [x[1] for x in tsne_out],\n",
    "    color=[cell_type_to_color[x] for x in cell_types],\n",
    ")\n",
    "ax1.set_title('TSNE: colored by cell type')\n",
    "ax2.scatter(\n",
    "    [x[0] for x in tsne_out], \n",
    "    [x[1] for x in tsne_out],\n",
    "    color=[target_to_color[x] for x in targets],\n",
    ")\n",
    "ax2.set_title('TSNE: colored by target')\n",
    "plt.show()"
   ]
  },
  {
   "cell_type": "markdown",
   "metadata": {},
   "source": [
    "#### Attempt filtering by Mahalanobis distance"
   ]
  },
  {
   "cell_type": "code",
   "execution_count": 105,
   "metadata": {},
   "outputs": [
    {
     "data": {
      "image/png": "[encoded data removed]",
      "text/plain": [
       "<matplotlib.figure.Figure at 0x177db0588>"
      ]
     },
     "metadata": {},
     "output_type": "display_data"
    },
    {
     "name": "stdout",
     "output_type": "stream",
     "text": [
      "36674 6.2158429641\n",
      "36754 4.37892767501\n",
      "36902 3.46223801531\n",
      "36874 2.83164571443\n",
      "36724 2.75653272497\n",
      "36672 2.72476776311\n",
      "36655 1.74714840022\n",
      "36653 1.52559868917\n",
      "36543 1.50684230418\n",
      "36570 1.3048000989\n",
      "0.548399187185\n",
      "1.29640965018\n"
     ]
    }
   ],
   "source": [
    "intersection_values = []\n",
    "selected_datasets = []\n",
    "for dataset in datasets:\n",
    "    if dataset_info[dataset]['experiment_type'] == 'ChIP-seq':\n",
    "        intersection_values.append([])\n",
    "        for transcript in transcripts:\n",
    "            intersection_values[-1].append(dataset_values[dataset][transcript]['genebody'])\n",
    "        selected_datasets.append(dataset)\n",
    "        \n",
    "pca = PCA(n_components=3)\n",
    "pca_out = pca.fit_transform(numpy.array(intersection_values))\n",
    "\n",
    "mean = numpy.mean(pca_out, axis=0)\n",
    "cov = numpy.cov(pca_out, rowvar=False)\n",
    "inv = numpy.linalg.inv(cov)\n",
    "m_dist = []\n",
    "for vector in pca_out:\n",
    "    m_dist.append(mahalanobis(vector, mean, inv))\n",
    "    \n",
    "plt.boxplot(m_dist)\n",
    "plt.show()\n",
    "\n",
    "for dist, ds in sorted(zip(m_dist, selected_datasets), key=lambda x: -x[0])[:10]:\n",
    "    print(ds.pk, dist)\n",
    "    \n",
    "print(numpy.percentile(m_dist, 25))\n",
    "print(numpy.percentile(m_dist, 75))"
   ]
  },
  {
   "cell_type": "code",
   "execution_count": 136,
   "metadata": {},
   "outputs": [
    {
     "data": {
      "image/png": "[encoded data removed]",
      "text/plain": [
       "<matplotlib.figure.Figure at 0x1787b0240>"
      ]
     },
     "metadata": {},
     "output_type": "display_data"
    },
    {
     "data": {
      "image/png": "[encoded data removed]",
      "text/plain": [
       "<matplotlib.figure.Figure at 0x1806aebe0>"
      ]
     },
     "metadata": {},
     "output_type": "display_data"
    },
    {
     "data": {
      "image/png": "[encoded data removed]",
      "text/plain": [
       "<matplotlib.figure.Figure at 0x104a84cf8>"
      ]
     },
     "metadata": {},
     "output_type": "display_data"
    }
   ],
   "source": [
    "def rank(transcript):\n",
    "    info = transcript_info[transcript]\n",
    "    return info['cell_type_rank'] + info['target_rank']\n",
    "\n",
    "filtered_transcripts = sorted(transcripts, key=lambda x: rank(x))[:1000]\n",
    "\n",
    "intersection_values = []\n",
    "selected_datasets = []\n",
    "for dataset in datasets:\n",
    "    if dataset_info[dataset]['experiment_type'] == 'ChIP-seq':\n",
    "        intersection_values.append([])\n",
    "        for transcript in filtered_transcripts:\n",
    "            intersection_values[-1].append(dataset_values[dataset][transcript]['genebody'])\n",
    "        selected_datasets.append(dataset)\n",
    "        \n",
    "pca = PCA(n_components=3)\n",
    "pca_out = pca.fit_transform(numpy.array(intersection_values))\n",
    "\n",
    "mean = numpy.mean(pca_out, axis=0)\n",
    "cov = numpy.cov(pca_out, rowvar=False)\n",
    "inv = numpy.linalg.inv(cov)\n",
    "m_dist = []\n",
    "for vector in pca_out:\n",
    "    m_dist.append(mahalanobis(vector, mean, inv))\n",
    "    \n",
    "Q1 = numpy.percentile(m_dist, 25)\n",
    "Q3 = numpy.percentile(m_dist, 75)\n",
    "cutoff = Q3 + 1.5 * (Q3 - Q1)\n",
    "\n",
    "_datasets = []\n",
    "for dist, ds in zip(m_dist, selected_datasets):\n",
    "    if dist < cutoff:\n",
    "        _datasets.append(ds)\n",
    "selected_datasets = _datasets\n",
    "\n",
    "intersection_values = []\n",
    "cell_types = []\n",
    "targets = []\n",
    "for dataset in selected_datasets:\n",
    "    intersection_values.append([])\n",
    "    for transcript in filtered_transcripts:\n",
    "        intersection_values[-1].append(dataset_values[dataset][transcript]['genebody'])\n",
    "    cell_types.append(dataset_info[dataset]['cell_type'])\n",
    "    targets.append(dataset_info[dataset]['target'])\n",
    "        \n",
    "n_components = 20\n",
    "pca = PCA(n_components=n_components)\n",
    "pca_out = pca.fit_transform(numpy.array(intersection_values))\n",
    "\n",
    "cell_type_to_color = dict()\n",
    "target_to_color = dict()\n",
    "index = 0\n",
    "for x in cell_types:\n",
    "    if x not in cell_type_to_color:\n",
    "        cell_type_to_color[x] = colors[index % len(colors)]\n",
    "        index += 1\n",
    "index = 0\n",
    "for x in targets:\n",
    "    if x not in target_to_color:\n",
    "        target_to_color[x] = colors[index % len(colors)]\n",
    "        index += 1\n",
    "\n",
    "fig, (ax1, ax2) = plt.subplots(nrows=1, ncols=2)\n",
    "ax1.scatter(\n",
    "    [x[0] for x in pca_out], \n",
    "    [x[1] for x in pca_out],\n",
    "    color=[cell_type_to_color[x] for x in cell_types],\n",
    ")\n",
    "ax1.set_title('PCA: colored by cell type')\n",
    "ax2.scatter(\n",
    "    [x[0] for x in pca_out], \n",
    "    [x[1] for x in pca_out],\n",
    "    color=[target_to_color[x] for x in targets],\n",
    ")\n",
    "ax2.set_title('PCA: colored by target')\n",
    "plt.show()\n",
    "\n",
    "fig, ax1 = plt.subplots()\n",
    "ax1.plot(range(n_components), pca.explained_variance_ratio_)\n",
    "ax1.set_title('PCA: explained variance ratio')\n",
    "plt.show()\n",
    "\n",
    "tsne = TSNE()\n",
    "tsne_out = tsne.fit_transform([x[:6] for x in pca_out])\n",
    "\n",
    "fig, (ax1, ax2) = plt.subplots(nrows=1, ncols=2)\n",
    "ax1.scatter(\n",
    "    [x[0] for x in tsne_out], \n",
    "    [x[1] for x in tsne_out],\n",
    "    color=[cell_type_to_color[x] for x in cell_types],\n",
    ")\n",
    "ax1.set_title('TSNE: colored by cell type')\n",
    "ax2.scatter(\n",
    "    [x[0] for x in tsne_out], \n",
    "    [x[1] for x in tsne_out],\n",
    "    color=[target_to_color[x] for x in targets],\n",
    ")\n",
    "ax2.set_title('TSNE: colored by target')\n",
    "plt.show()"
   ]
  },
  {
   "cell_type": "code",
   "execution_count": null,
   "metadata": {
    "hideCode": false,
    "hidePrompt": false
   },
   "outputs": [],
   "source": [
    "intersection_values = []\n",
    "cell_types = []\n",
    "targets = []\n",
    "selected_datasets = []\n",
    "for dataset in datasets:\n",
    "    if dataset_info[dataset]['experiment_type'] == 'ChIP-seq':\n",
    "        intersection_values.append([])\n",
    "        for transcript in filtered_transcripts:\n",
    "            intersection_values[-1].append(dataset_values[dataset][transcript]['genebody'])\n",
    "        cell_types.append(dataset_info[dataset]['cell_type'])\n",
    "        targets.append(dataset_info[dataset]['target'])\n",
    "        selected_datasets.append(dataset)\n",
    "        \n",
    "rf = RandomForestClassifier(n_estimators=600)\n",
    "\n",
    "cell_type_importances = rf.fit(\n",
    "    intersection_values, \n",
    "    cell_types,\n",
    ").feature_importances_\n",
    "\n",
    "target_importances = rf.fit(\n",
    "    intersection_values,\n",
    "    targets,\n",
    ").feature_importances_\n",
    "\n",
    "cell_type_ranks = \\\n",
    "    [i[0] for i in sorted(enumerate(cell_type_importances), key=lambda x: -x[1])]\n",
    "target_ranks = \\\n",
    "    [i[0] for i in sorted(enumerate(target_importances), key=lambda x: -x[1])]\n",
    "    \n",
    "for transcript, ct_rank, t_rank, in zip(\n",
    "        transcripts, cell_type_ranks, target_ranks):\n",
    "    transcript_info[transcript].update({\n",
    "            'cell_type_rank': ct_rank,\n",
    "            'target_rank': t_rank,\n",
    "        })"
   ]
  },
  {
   "cell_type": "code",
   "execution_count": null,
   "metadata": {
    "hideCode": false,
    "hidePrompt": false
   },
   "outputs": [],
   "source": [
    "filtered_transcripts = []\n",
    "\n",
    "def filter_function(x):\n",
    "    return (\n",
    "        transcript_info[x]['cell_type_rank'] \\\n",
    "        + transcript_info[x]['target_rank']\n",
    "    )\n",
    "\n",
    "for transcript in sorted(\n",
    "        transcripts, \n",
    "        key=lambda x: filter_function(x))[:5000]:\n",
    "    filtered_transcripts.append(transcript)"
   ]
  },
  {
   "cell_type": "code",
   "execution_count": null,
   "metadata": {
    "hideCode": false,
    "hidePrompt": false
   },
   "outputs": [],
   "source": [
    "intersection_values = []\n",
    "for dataset in datasets:\n",
    "    if dataset_info[dataset]['experiment_type'] == 'ChIP-seq':\n",
    "        intersection_values.append([])\n",
    "        for transcript in filtered_transcripts:\n",
    "            intersection_values[-1].append(dataset_values[dataset][transcript]['genebody'])\n",
    "        \n",
    "pca = PCA(n_components=5)\n",
    "pca_out = pca.fit_transform(numpy.array(intersection_values))\n",
    "\n",
    "plt.plot(range(5), pca.explained_variance_ratio_)\n",
    "plt.show()"
   ]
  },
  {
   "cell_type": "code",
   "execution_count": null,
   "metadata": {
    "hideCode": false,
    "hidePrompt": false
   },
   "outputs": [],
   "source": [
    "tsne = TSNE()\n",
    "out = tsne.fit_transform(pca_out)\n",
    "\n",
    "x_values = [value[0] for value in out]\n",
    "y_values = [value[1] for value in out]\n",
    "\n",
    "plt.scatter(x_values, y_values)\n",
    "plt.show()"
   ]
  },
  {
   "cell_type": "code",
   "execution_count": null,
   "metadata": {
    "collapsed": true,
    "hideCode": false,
    "hidePrompt": false
   },
   "outputs": [],
   "source": [
    "dataset_values = dict()\n",
    "for dataset in datasets:\n",
    "    dataset_values[dataset] = dict()\n",
    "    for transcript in gene_to_transcript.values():\n",
    "        dataset_values[dataset][transcript] = \\\n",
    "            models.TranscriptIntersection.objects.get(\n",
    "                dataset=dataset,\n",
    "                transcript=transcript,\n",
    "            ).normalized_coding_value"
   ]
  },
  {
   "cell_type": "code",
   "execution_count": null,
   "metadata": {
    "hideCode": false,
    "hidePrompt": false
   },
   "outputs": [],
   "source": [
    "from sklearn.ensemble import RandomForestClassifier\n",
    "# rf = RandomForestClassifier(n_estimators=2000, oob_score=True)\n",
    "\n",
    "transcripts = gene_to_transcript.values()\n",
    "intersection_values = []\n",
    "for dataset in datasets:\n",
    "    intersection_values.append([])\n",
    "    for transcript in transcripts:\n",
    "        intersection_values[-1].append(dataset_values[dataset][transcript])\n",
    "\n",
    "cell_types = []\n",
    "for dataset in datasets:\n",
    "    cell_types.append(\n",
    "        models.Experiment.objects.get(dataset=dataset).cell_type)\n",
    "\n",
    "# rf.fit(intersection_values, cell_types)\n",
    "# rf.oob_score_\n",
    "oob_errors = []\n",
    "for n in [10 * (n + 1) for n in range(100)]:\n",
    "    rf = RandomForestClassifier(n_estimators=n, oob_score=True)\n",
    "    rf.fit(intersection_values, cell_types)\n",
    "    oob_errors.append([n, (1 - rf.oob_score_)])\n",
    "\n",
    "plt.plot([x[0] for x in oob_errors], [x[1] for x in oob_errors])\n",
    "plt.show()"
   ]
  },
  {
   "cell_type": "code",
   "execution_count": null,
   "metadata": {
    "hideCode": false,
    "hidePrompt": false
   },
   "outputs": [],
   "source": [
    "from sklearn.ensemble import RandomForestClassifier\n",
    "# rf = RandomForestClassifier(n_estimators=2000, oob_score=True)\n",
    "\n",
    "transcripts = gene_to_transcript.values()\n",
    "intersection_values = []\n",
    "for dataset in datasets:\n",
    "    intersection_values.append([])\n",
    "    for transcript in transcripts:\n",
    "        intersection_values[-1].append(dataset_values[dataset][transcript])\n",
    "\n",
    "targets = []\n",
    "for dataset in datasets:\n",
    "    targets.append(\n",
    "        models.Experiment.objects.get(dataset=dataset).target)\n",
    "\n",
    "# rf.fit(intersection_values, cell_types)\n",
    "# rf.oob_score_\n",
    "oob_errors = []\n",
    "for n in [10 * (n + 1) for n in range(100)]:\n",
    "    rf = RandomForestClassifier(n_estimators=n, oob_score=True)\n",
    "    rf.fit(intersection_values, targets)\n",
    "    oob_errors.append([n, (1 - rf.oob_score_)])\n",
    "\n",
    "plt.plot([x[0] for x in oob_errors], [x[1] for x in oob_errors])\n",
    "plt.show()"
   ]
  },
  {
   "cell_type": "code",
   "execution_count": null,
   "metadata": {
    "hideCode": false,
    "hidePrompt": false
   },
   "outputs": [],
   "source": [
    "transcripts = gene_to_transcript.values()\n",
    "intersection_values = []\n",
    "for dataset in datasets:\n",
    "    intersection_values.append([])\n",
    "    for transcript in transcripts:\n",
    "        intersection_values[-1].append(dataset_values[dataset][transcript])\n",
    "        \n",
    "cell_types = []\n",
    "for dataset in datasets:\n",
    "    cell_types.append(\n",
    "        models.Experiment.objects.get(dataset=dataset).cell_type)\n",
    "\n",
    "targets = []\n",
    "for dataset in datasets:\n",
    "    targets.append(\n",
    "        models.Experiment.objects.get(dataset=dataset).target)\n",
    "    \n",
    "experiment_types = []\n",
    "for dataset in datasets:\n",
    "    experiment_types.append(\n",
    "        models.Experiment.objects.get(dataset=dataset).data_type)\n",
    "    \n",
    "rf = RandomForestClassifier(n_estimators=600)\n",
    "\n",
    "rf.fit(intersection_values, cell_types)\n",
    "cell_type_importances = rf.feature_importances_ \n",
    "rf.fit(intersection_values, targets)\n",
    "target_importances = rf.feature_importances_\n",
    "rf.fit(intersection_values, experiment_types)\n",
    "experiment_type_importances = rf.feature_importances_"
   ]
  },
  {
   "cell_type": "code",
   "execution_count": null,
   "metadata": {
    "hideCode": false,
    "hidePrompt": false
   },
   "outputs": [],
   "source": [
    "plt.scatter(cell_type_importances, experiment_type_importances)\n",
    "plt.xlim(xmin=-0.001, xmax=0.003)\n",
    "plt.ylim(ymin=-0.001, ymax=0.003)\n",
    "plt.show()"
   ]
  },
  {
   "cell_type": "code",
   "execution_count": null,
   "metadata": {
    "hideCode": false,
    "hidePrompt": false
   },
   "outputs": [],
   "source": [
    "cell_type_ranks = \\\n",
    "    [i[0] for i in sorted(enumerate(cell_type_importances), key=lambda x: -x[1])]\n",
    "target_ranks = \\\n",
    "    [i[0] for i in sorted(enumerate(target_importances), key=lambda x: -x[1])]\n",
    "total_ranks = [x + y for x, y in zip(cell_type_ranks, target_ranks)]\n",
    "\n",
    "transcript_ranks = dict()\n",
    "for transcript, rank in zip(transcripts, total_ranks):\n",
    "    transcript_ranks[transcript] = rank\n",
    "    \n",
    "filtered_transcripts = \\\n",
    "    [x[0] for x in sorted(transcript_ranks.items(), key=lambda x: -x[1])][100:400]"
   ]
  },
  {
   "cell_type": "code",
   "execution_count": null,
   "metadata": {
    "hideCode": false,
    "hidePrompt": false
   },
   "outputs": [],
   "source": [
    "intersection_values = []\n",
    "for dataset in datasets:\n",
    "    intersection_values.append([])\n",
    "    for transcript in filtered_transcripts:\n",
    "        intersection_values[-1].append(dataset_values[dataset][transcript])\n",
    "        \n",
    "pca = PCA(n_components=20)\n",
    "pca_out = pca.fit_transform(numpy.array(intersection_values))\n",
    "print(pca.explained_variance_ratio_)"
   ]
  },
  {
   "cell_type": "code",
   "execution_count": null,
   "metadata": {
    "hideCode": false,
    "hidePrompt": false
   },
   "outputs": [],
   "source": [
    "x_values = [value[2] for value in pca_out]\n",
    "y_values = [value[3] for value in pca_out]\n",
    "\n",
    "plt.scatter(x_values, y_values)\n",
    "plt.show()"
   ]
  },
  {
   "cell_type": "code",
   "execution_count": null,
   "metadata": {
    "hideCode": false,
    "hidePrompt": false
   },
   "outputs": [],
   "source": [
    "from sklearn.manifold import TSNE\n",
    "\n",
    "filtered_transcripts = \\\n",
    "    [x[0] for x in sorted(transcript_ranks.items(), key=lambda x: -x[1])][:50]\n",
    "    \n",
    "intersection_values = []\n",
    "for dataset in datasets:\n",
    "    intersection_values.append([])\n",
    "    for transcript in filtered_transcripts:\n",
    "        intersection_values[-1].append(dataset_values[dataset][transcript])\n",
    "\n",
    "pca = TruncatedSVD(n_components=2)\n",
    "pca_out = pca.fit_transform(numpy.array(intersection_values))\n",
    "        \n",
    "tsne = TSNE()\n",
    "out = tsne.fit_transform(pca_out)\n",
    "\n",
    "type_to_color = dict()\n",
    "colors = ['b', 'g', 'r', 'c', 'm', 'y']\n",
    "index = 0\n",
    "for x in cell_types:\n",
    "    if x not in type_to_color:\n",
    "        type_to_color[x] = colors[index % len(colors)]\n",
    "        index += 1\n",
    "\n",
    "plt.scatter(\n",
    "    [x[0] for x in pca_out], \n",
    "    [x[1] for x in pca_out], \n",
    "    color=[type_to_color[x] for x in cell_types],\n",
    ")\n",
    "plt.xlim(xmin=-2000, xmax=2000)\n",
    "plt.ylim(ymin=-2000, ymax=2000)\n",
    "plt.show()"
   ]
  },
  {
   "cell_type": "code",
   "execution_count": null,
   "metadata": {
    "hideCode": false,
    "hidePrompt": false
   },
   "outputs": [],
   "source": [
    "transcript_coding_lengths = dict()\n",
    "for transcript in gene_to_transcript.values():\n",
    "    transcript_coding_lengths[transcript] = \\\n",
    "        sum((e[1] - e[0] + 1) for e in transcript.exons)"
   ]
  },
  {
   "cell_type": "code",
   "execution_count": null,
   "metadata": {
    "hideCode": false,
    "hidePrompt": false
   },
   "outputs": [],
   "source": [
    "models.Gene.objects.get(transcript=filtered_transcripts[1]).name"
   ]
  },
  {
   "cell_type": "code",
   "execution_count": null,
   "metadata": {
    "hideCode": false,
    "hidePrompt": false
   },
   "outputs": [],
   "source": [
    "median_expression_values = dict()\n",
    "for transcript in gene_to_transcript.values():\n",
    "    median_expression_values[transcript] = transcript.get_median_expression()"
   ]
  },
  {
   "cell_type": "code",
   "execution_count": null,
   "metadata": {
    "hideCode": false,
    "hidePrompt": false
   },
   "outputs": [],
   "source": [
    "variance_values = dict()\n",
    "for transcript in gene_to_transcript.values():\n",
    "    variance_values[transcript] = transcript.get_intersection_variance()"
   ]
  },
  {
   "cell_type": "code",
   "execution_count": null,
   "metadata": {
    "hideCode": false,
    "hidePrompt": false
   },
   "outputs": [],
   "source": [
    "gene_info = dict()\n",
    "for gene, transcript in gene_to_transcript.items():\n",
    "    gene_info[gene] = {\n",
    "        'transcript': transcript,\n",
    "        'median_expression': median_expression_values[transcript],\n",
    "        'coding_length': transcript_coding_lengths[transcript],\n",
    "        'variance': variance_values[transcript],\n",
    "    }"
   ]
  },
  {
   "cell_type": "code",
   "execution_count": null,
   "metadata": {
    "collapsed": true,
    "hideCode": false,
    "hidePrompt": false
   },
   "outputs": [],
   "source": [
    "def plot_info(info_dict):\n",
    "    length_histogram = numpy.histogram(\n",
    "        [x['coding_length'] for x in info_dict.values()],\n",
    "        bins=[50 * i for i in range(200)],\n",
    "    )\n",
    "    expression_histogram = numpy.histogram(\n",
    "        [x['median_expression'] for x in info_dict.values()],\n",
    "        bins=[0.5 * i for i in range(40)],\n",
    "    )\n",
    "    variance_histogram = numpy.histogram(\n",
    "        [x['variance'] for x in info_dict.values()],\n",
    "        bins=[0.5 * i for i in range(40)],\n",
    "    )\n",
    "    \n",
    "    \n",
    "    fig, ((ax1, ax2), (ax3, ax4)) = plt.subplots(nrows=2,ncols=2)\n",
    "    \n",
    "    ax1.bar(length_histogram[1][1:], length_histogram[0], width=50)\n",
    "    ax1.set_xlim([0, 4000])\n",
    "    \n",
    "    ax2.bar(expression_histogram[1][1:], expression_histogram[0], width=0.5)\n",
    "    ax2.set_xlim([0, 20])\n",
    "    \n",
    "    ax3.bar(variance_histogram[1][1:], variance_histogram[0])\n",
    "    \n",
    "    ax4.scatter(\n",
    "        [math.log(x['variance'] + 1) for x in info_dict.values()], \n",
    "        [x['median_expression'] for x in info_dict.values()],\n",
    "    )\n",
    "    \n",
    "    plt.show()"
   ]
  },
  {
   "cell_type": "code",
   "execution_count": null,
   "metadata": {
    "hideCode": false,
    "hidePrompt": false
   },
   "outputs": [],
   "source": [
    "variance_cutoffs = [\n",
    "    numpy.percentile([x['variance'] for x in gene_info.values()], 50),\n",
    "    numpy.percentile([x['variance'] for x in gene_info.values()], 75),\n",
    "]\n",
    "\n",
    "expression_cutoffs = [\n",
    "    numpy.percentile([x['median_expression'] for x in gene_info.values()], 25),\n",
    "    numpy.percentile([x['median_expression'] for x in gene_info.values()], 50),\n",
    "]\n",
    "\n",
    "filtered_genes = dict()\n",
    "for gene, _dict in gene_info.items():\n",
    "    if all([\n",
    "        _dict['coding_length'] >= 500,\n",
    "        _dict['variance'] >= variance_cutoffs[0],\n",
    "        _dict['variance'] <= variance_cutoffs[1],\n",
    "        _dict['median_expression'] >= expression_cutoffs[0],\n",
    "        _dict['median_expression'] <= expression_cutoffs[1],\n",
    "    ]):\n",
    "        filtered_genes[gene] = _dict"
   ]
  },
  {
   "cell_type": "code",
   "execution_count": null,
   "metadata": {
    "hideCode": false,
    "hidePrompt": false
   },
   "outputs": [],
   "source": [
    "print(len(genes))\n",
    "plot_info(gene_info)"
   ]
  },
  {
   "cell_type": "code",
   "execution_count": null,
   "metadata": {
    "hideCode": false,
    "hidePrompt": false
   },
   "outputs": [],
   "source": [
    "print(len(filtered_genes))\n",
    "plot_info(filtered_genes)"
   ]
  },
  {
   "cell_type": "code",
   "execution_count": null,
   "metadata": {
    "hideCode": false,
    "hidePrompt": false
   },
   "outputs": [],
   "source": [
    "intersection_matrix = []\n",
    "transcripts = [x['transcript'] for x in filtered_genes.values()]\n",
    "for dataset in datasets:\n",
    "    intersections = []\n",
    "    for transcript in transcripts:\n",
    "        intersections.append(\n",
    "            models.TranscriptIntersection.objects.get(\n",
    "                dataset=dataset,\n",
    "                transcript=transcript,\n",
    "            ).normalized_coding_value\n",
    "        )\n",
    "    intersection_matrix.append(intersections)"
   ]
  },
  {
   "cell_type": "code",
   "execution_count": null,
   "metadata": {
    "hideCode": false,
    "hidePrompt": false
   },
   "outputs": [],
   "source": [
    "pca = PCA(n_components=20)\n",
    "pca_out = pca.fit_transform(numpy.array(intersection_matrix))\n",
    "print(pca.explained_variance_ratio_)"
   ]
  },
  {
   "cell_type": "code",
   "execution_count": null,
   "metadata": {
    "hideCode": false,
    "hidePrompt": false
   },
   "outputs": [],
   "source": [
    "plt.scatter(range(20), pca.explained_variance_ratio_)\n",
    "plt.show"
   ]
  },
  {
   "cell_type": "code",
   "execution_count": null,
   "metadata": {
    "hideCode": false,
    "hidePrompt": false
   },
   "outputs": [],
   "source": [
    "x_values = [value[0] for value in pca_out]\n",
    "y_values = [value[1] for value in pca_out]\n",
    "\n",
    "plt.scatter(x_values, y_values)\n",
    "plt.show()"
   ]
  },
  {
   "cell_type": "code",
   "execution_count": null,
   "metadata": {
    "collapsed": true,
    "hideCode": false,
    "hidePrompt": false
   },
   "outputs": [],
   "source": []
  }
 ],
 "metadata": {
  "celltoolbar": "Hide code",
  "hide_code_all_hidden": false,
  "kernelspec": {
   "display_name": "Django Shell-Plus",
   "language": "python",
   "name": "django_extensions"
  },
  "language_info": {
   "codemirror_mode": {
    "name": "ipython",
    "version": 3
   },
   "file_extension": ".py",
   "mimetype": "text/x-python",
   "name": "python",
   "nbconvert_exporter": "python",
   "pygments_lexer": "ipython3",
   "version": "3.5.2"
  }
 },
 "nbformat": 4,
 "nbformat_minor": 1
}
