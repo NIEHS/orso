{
 "cells": [
  {
   "cell_type": "markdown",
   "metadata": {},
   "source": [
    "#### How I formatted the table from VISTA:\n",
    "\n",
    "Unfortunately, not all information may be accessed by clicking \"Download Data\" on \"Experimental Data\" tab.  This gives you a FASTA that does not provide the walk-over information from human to mouse and vice-versa.  To get this information, I copied the \"Experimental Data\" table into TextEdit and formatted as plain text.  This took all the inline HTML and put it into an easy-to-read format."
   ]
  },
  {
   "cell_type": "code",
   "execution_count": 4,
   "metadata": {
    "collapsed": true
   },
   "outputs": [],
   "source": [
    "import sys"
   ]
  },
  {
   "cell_type": "code",
   "execution_count": 5,
   "metadata": {
    "collapsed": true
   },
   "outputs": [],
   "source": [
    "vista_fn = '2016-10-13_Vista_table_dump.txt'\n",
    "human_output = 'vista_human_enhancers.bed'\n",
    "mouse_output = 'vista_mouse_enhancers.bed'"
   ]
  },
  {
   "cell_type": "code",
   "execution_count": 13,
   "metadata": {
    "collapsed": false
   },
   "outputs": [],
   "source": [
    "def readPosition(line):\n",
    "    chromosome, coordinates = line.strip().split(':')\n",
    "    start, end = coordinates.split('-')\n",
    "    \n",
    "    return chromosome, start, end\n",
    "\n",
    "def writeBedEntry(OUTPUT, name, chrom, start, end):\n",
    "    OUTPUT.write('{}\\t{}\\t{}\\t{}\\n'.format(\n",
    "            chrom,\n",
    "            str(int(start.replace(',', '')) - 1),\n",
    "            end.replace(',', ''),\n",
    "            name,\n",
    "        ))\n",
    "\n",
    "with open(vista_fn) as vista, \\\n",
    "        open(human_output, 'w') as HUMAN, \\\n",
    "        open(mouse_output, 'w') as MOUSE:\n",
    "    for i, line in enumerate(vista):\n",
    "        if i % 7 == 0:\n",
    "            name = line.strip()\n",
    "        if i % 7 == 1:\n",
    "            if line.strip() != '':\n",
    "                human_chrom, human_start, human_end = readPosition(line.strip())\n",
    "            else:\n",
    "                human_chrom, human_start, human_end = [None, None, None]\n",
    "        if i % 7 == 3:\n",
    "            if line.strip() != '':\n",
    "                mouse_chrom, mouse_start, mouse_end = readPosition(line.strip())\n",
    "            else:\n",
    "                mouse_chrom, mouse_start, mouse_end = [None, None, None]\n",
    "                \n",
    "            if human_chrom is not None:\n",
    "                writeBedEntry(HUMAN, name, human_chrom, human_start, human_end)\n",
    "            if mouse_chrom is not None:\n",
    "                writeBedEntry(MOUSE, name, mouse_chrom, mouse_start, mouse_end)"
   ]
  },
  {
   "cell_type": "code",
   "execution_count": null,
   "metadata": {
    "collapsed": true
   },
   "outputs": [],
   "source": []
  }
 ],
 "metadata": {
  "kernelspec": {
   "display_name": "Django Shell-Plus",
   "language": "python",
   "name": "django_extensions"
  },
  "language_info": {
   "codemirror_mode": {
    "name": "ipython",
    "version": 3
   },
   "file_extension": ".py",
   "mimetype": "text/x-python",
   "name": "python",
   "nbconvert_exporter": "python",
   "pygments_lexer": "ipython3",
   "version": "3.5.2"
  }
 },
 "nbformat": 4,
 "nbformat_minor": 0
}
